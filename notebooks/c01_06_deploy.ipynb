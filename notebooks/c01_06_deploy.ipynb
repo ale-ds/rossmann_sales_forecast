{
 "cells": [
  {
   "cell_type": "markdown",
   "id": "fb5f58c8",
   "metadata": {},
   "source": [
    "# IMPORTS E CONFIGURAÇÕES"
   ]
  },
  {
   "cell_type": "markdown",
   "id": "4801f75e",
   "metadata": {},
   "source": [
    "## Imports"
   ]
  },
  {
   "cell_type": "code",
   "execution_count": 2,
   "id": "ec54ca43",
   "metadata": {},
   "outputs": [],
   "source": [
    "import os\n",
    "import sys\n",
    "import pickle\n",
    "import pandas as pd\n",
    "import numpy as np\n",
    "import requests\n",
    "\n",
    "import xgboost as xgb\n",
    "from io import StringIO\n",
    "from flask import Flask, request, Response\n",
    "\n",
    "# Adiciona o diretório raiz do projeto ao path do Python\n",
    "sys.path.append('../')\n",
    "from api.rossmann.Rossmann import Rossmann"
   ]
  },
  {
   "cell_type": "markdown",
   "id": "29affb4c",
   "metadata": {},
   "source": [
    "## Configurações"
   ]
  },
  {
   "cell_type": "code",
   "execution_count": 3,
   "id": "d4d6c74a",
   "metadata": {},
   "outputs": [],
   "source": [
    "pd.set_option('display.max_columns', None)"
   ]
  },
  {
   "cell_type": "markdown",
   "id": "df63ce24",
   "metadata": {},
   "source": [
    "# LOAD DATA"
   ]
  },
  {
   "cell_type": "markdown",
   "id": "f2c2f4b4",
   "metadata": {},
   "source": [
    "## Carregar dados"
   ]
  },
  {
   "cell_type": "code",
   "execution_count": 4,
   "id": "5c38c68d",
   "metadata": {},
   "outputs": [],
   "source": [
    "# --- Carregar os dados brutos que o modelo nunca viu ---\n",
    "df_test = pd.read_csv('../data/raw/test.csv', low_memory=False)\n",
    "df_store = pd.read_csv('../data/raw/store.csv', low_memory=False)\n",
    "df_raw = pd.merge(df_test, df_store, on='Store', how='left')"
   ]
  },
  {
   "cell_type": "markdown",
   "id": "ea78c398",
   "metadata": {},
   "source": [
    "## Carregar modelo e encoders manualmente "
   ]
  },
  {
   "cell_type": "code",
   "execution_count": 5,
   "id": "cb28fcc3",
   "metadata": {},
   "outputs": [],
   "source": [
    "MODEL_PATH = '../model/modeling/'\n",
    "SCALERS_PATH = '../model/pre-processing/scalers.pkl'    # dicionário com scalers\n",
    "ENCODERS_PATH = '../model/pre-processing/encoders.pkl'  # dicionário com encoders\n",
    "FEATURES_PATH = '../model/pre-processing/list_features_selected.pkl'\n",
    "\n",
    "# Carregar modelo\n",
    "model = xgb.XGBRegressor()\n",
    "# The path should be relative to BASE_PATH, without a leading slash.\n",
    "model.load_model(os.path.join(MODEL_PATH, \"model_xgb_final.ubj\"))\n",
    "\n",
    "# Carregar scalers\n",
    "with open(SCALERS_PATH, 'rb') as f:\n",
    "    scalers = pickle.load(f)\n",
    "\n",
    "# Carregar encoders\n",
    "with open(ENCODERS_PATH, 'rb') as f:\n",
    "    encoders = pickle.load(f)\n",
    "\n",
    "# Carregar features selecionadas\n",
    "with open(FEATURES_PATH, 'rb') as f:\n",
    "    features_selected = pickle.load(f)"
   ]
  },
  {
   "cell_type": "markdown",
   "id": "afa4d2e6",
   "metadata": {},
   "source": [
    "# DEPLOY"
   ]
  },
  {
   "cell_type": "markdown",
   "id": "0fa01832",
   "metadata": {},
   "source": [
    "## Classe Rossmann"
   ]
  },
  {
   "cell_type": "code",
   "execution_count": 6,
   "id": "e23298c9",
   "metadata": {},
   "outputs": [
    {
     "name": "stderr",
     "output_type": "stream",
     "text": [
      "2025-08-15 11:06:02,637 - INFO - Rossmann initialized with preloaded objects.\n"
     ]
    }
   ],
   "source": [
    "# Criar a instância do pipeline Rossmann\n",
    "# que será usado para fazer previsões\n",
    "pipeline = Rossmann(\n",
    "    model=model,\n",
    "    scalers=scalers,\n",
    "    encoders=encoders,\n",
    "    features_selected=features_selected\n",
    ")\n",
    "\n",
    "# Escolher as lojas para predição\n",
    "df_sample = df_raw[df_raw['Store'].isin( [24, 12, 22] )]"
   ]
  },
  {
   "cell_type": "markdown",
   "id": "061bef71",
   "metadata": {},
   "source": [
    "### Realizar pré-processamento"
   ]
  },
  {
   "cell_type": "code",
   "execution_count": 7,
   "id": "6071d7fb",
   "metadata": {},
   "outputs": [],
   "source": [
    "# 3. Aplicar o pipeline de pré-processamento\n",
    "df_prepared = pipeline.preprocess(df_sample.copy())"
   ]
  },
  {
   "cell_type": "markdown",
   "id": "ce1e93f0",
   "metadata": {},
   "source": [
    "### Executar o modelo de previsão de vendas"
   ]
  },
  {
   "cell_type": "code",
   "execution_count": 8,
   "id": "ef5d18b9",
   "metadata": {},
   "outputs": [],
   "source": [
    "# 4. Fazer a previsão\n",
    "df_response_json = pipeline.get_prediction(df_prepared)"
   ]
  },
  {
   "cell_type": "markdown",
   "id": "469c9523",
   "metadata": {},
   "source": [
    "### Ver resultado das previsões de vendas"
   ]
  },
  {
   "cell_type": "code",
   "execution_count": 9,
   "id": "88b51b54",
   "metadata": {},
   "outputs": [
    {
     "name": "stdout",
     "output_type": "stream",
     "text": [
      "Store Number 12 will sell R$338,412.86 in the next 6 weeks\n",
      "Store Number 22 will sell R$187,366.61 in the next 6 weeks\n",
      "Store Number 24 will sell R$323,053.97 in the next 6 weeks\n"
     ]
    }
   ],
   "source": [
    "# 5. Converter o JSON de resposta para um DataFrame para visualização\n",
    "#    2. Usar StringIO para evitar o FutureWarning\n",
    "df_response = pd.read_json(StringIO(df_response_json))\n",
    "\n",
    "# 6. Visualizar o resultado com a coluna 'Prediction'\n",
    "df_prediction = df_response[['Store', 'Prediction']].groupby('Store').sum().reset_index()\n",
    "\n",
    "for i in range(len( df_prediction )):\n",
    "    print('Store Number {} will sell R${:,.2f} in the next 6 weeks'.format(\n",
    "        df_prediction.loc[i, 'Store'],\n",
    "        df_prediction.loc[i, 'Prediction'] ) )"
   ]
  },
  {
   "cell_type": "markdown",
   "id": "f28228a4",
   "metadata": {},
   "source": [
    "## Chamada da API\n",
    "\n",
    "> Execute o arquivo handler.py, através do comando abaixo, pelo terminal para ativar o serviço e poder testar a API localmente.\n",
    ">\n",
    "> ```python handler.py ```"
   ]
  },
  {
   "cell_type": "markdown",
   "id": "9b6af805",
   "metadata": {},
   "source": [
    "### Definir variáveis na API"
   ]
  },
  {
   "cell_type": "code",
   "execution_count": 10,
   "id": "fde470e4",
   "metadata": {},
   "outputs": [],
   "source": [
    "# URL de desenvolvimento\n",
    "# url = 'http://0.0.0.0:8080/rossmann/predict'\n",
    "\n",
    "# URL de produção\n",
    "url = 'https://rossmann-sales-forecast-flnh.onrender.com/rossmann/predict'\n",
    "\n",
    "header = {\n",
    "    'Content-type': \n",
    "    'application/json' \n",
    "}\n",
    "data = df_sample.to_json(orient=\"records\", date_format=\"iso\")"
   ]
  },
  {
   "cell_type": "markdown",
   "id": "ac0477b8",
   "metadata": {},
   "source": [
    "### Executar a API"
   ]
  },
  {
   "cell_type": "code",
   "execution_count": 11,
   "id": "a24ac384",
   "metadata": {},
   "outputs": [
    {
     "name": "stdout",
     "output_type": "stream",
     "text": [
      "Status Code 200\n"
     ]
    }
   ],
   "source": [
    "r = requests.post(\n",
    "    url, \n",
    "    data=data, \n",
    "    headers=header\n",
    ")\n",
    "print('Status Code {}'.format(r.status_code))"
   ]
  },
  {
   "cell_type": "markdown",
   "id": "59ee41eb",
   "metadata": {},
   "source": [
    "### Visualizar retorno da API"
   ]
  },
  {
   "cell_type": "code",
   "execution_count": 12,
   "id": "24baca3c",
   "metadata": {},
   "outputs": [
    {
     "name": "stdout",
     "output_type": "stream",
     "text": [
      "A loja 12 venderá R$ 338,412.86 nas próximas 6 semanas\n",
      "A loja 22 venderá R$ 187,366.61 nas próximas 6 semanas\n",
      "A loja 24 venderá R$ 323,053.97 nas próximas 6 semanas\n"
     ]
    }
   ],
   "source": [
    "d1 = pd.DataFrame(\n",
    "    r.json(), \n",
    "    columns=r.json()[0].keys()\n",
    ")\n",
    "\n",
    "d2 = (\n",
    "    d1[['Store', 'Prediction']]\n",
    "    .groupby('Store')\n",
    "    .sum()\n",
    "    .reset_index()\n",
    ")\n",
    "\n",
    "for i in range(len(d2)):\n",
    "    print(\n",
    "        'A loja {} venderá R$ {:,.2f} nas próximas 6 semanas'.format(\n",
    "        d2.loc[i, 'Store'],\n",
    "        d2.loc[i, 'Prediction']) \n",
    "    )\n"
   ]
  },
  {
   "cell_type": "markdown",
   "id": "26094274",
   "metadata": {},
   "source": [
    "## Chamada Telegram"
   ]
  },
  {
   "cell_type": "markdown",
   "id": "46a7509d",
   "metadata": {},
   "source": [
    "### Info about the Bot\n",
    "'https://api.telegram.org/bot6869086822:AAEnR8Rl9yIiT-MUVwCkOstK_KpkEvck9fo/getMe'\n",
    "\n",
    "### Get Updates\n",
    "'https://api.telegram.org/bot6869086822:AAEnR8Rl9yIiT-MUVwCkOstK_KpkEvck9fo/getUpdates'\n",
    "\n",
    "### Send Message\n",
    "https://api.telegram.org/bot6869086822:AAEnR8Rl9yIiT-MUVwCkOstK_KpkEvck9fo/sendMessage?chat_id=1090663968&text=Hi Ale, I am doing good, tks!\n",
    "\n",
    "### Delete Webhook\n",
    "curl https://api.telegram.org/bot6869086822:AAEnR8Rl9yIiT-MUVwCkOstK_KpkEvck9fo/deleteWebhook\n",
    "\n",
    "### Get Webhook Info\n",
    "curl https://api.telegram.org/bot6869086822:AAEnR8Rl9yIiT-MUVwCkOstK_KpkEvck9fo/getWebhookInfo\n",
    "\n",
    "### Set Webhook\n",
    "\n",
    "#### Pelo Browser:\n",
    "https://api.telegram.org/bot6869086822:AAEnR8Rl9yIiT-MUVwCkOstK_KpkEvck9fo/setWebhook?url=https://rossmann-telegram-bot-92ce.onrender.com\n",
    "\n",
    "#### Pelo Terminal\n",
    "```\n",
    "curl -F \"url=https://rossmann-telegram-bot.onrender.com/\" https://api.telegram.org/bot6869086822:AAEnR8Rl9yIiT-MUVwCkOstK_KpkEvck9fo/setWebhook\n",
    "```\n",
    "```\n",
    "curl -F \"url=https://5536b31df9cdf6.lhr.life/\" https://api.telegram.org/bot6869086822:AAEnR8Rl9yIiT-MUVwCkOstK_KpkEvck9fo/setWebhook\n",
    "```\n"
   ]
  },
  {
   "cell_type": "code",
   "execution_count": null,
   "id": "3130e658",
   "metadata": {},
   "outputs": [],
   "source": []
  }
 ],
 "metadata": {
  "kernelspec": {
   "display_name": "previsao_vendas_rossmann",
   "language": "python",
   "name": "python3"
  },
  "language_info": {
   "codemirror_mode": {
    "name": "ipython",
    "version": 3
   },
   "file_extension": ".py",
   "mimetype": "text/x-python",
   "name": "python",
   "nbconvert_exporter": "python",
   "pygments_lexer": "ipython3",
   "version": "3.13.3"
  }
 },
 "nbformat": 4,
 "nbformat_minor": 5
}
