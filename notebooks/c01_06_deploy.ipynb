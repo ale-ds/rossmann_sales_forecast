{
 "cells": [
  {
   "cell_type": "markdown",
   "id": "fb5f58c8",
   "metadata": {},
   "source": [
    "# IMPORTS E CONFIGURAÇÕES"
   ]
  },
  {
   "cell_type": "markdown",
   "id": "4801f75e",
   "metadata": {},
   "source": [
    "## Imports"
   ]
  },
  {
   "cell_type": "code",
   "execution_count": 18,
   "id": "ec54ca43",
   "metadata": {},
   "outputs": [],
   "source": [
    "import sys\n",
    "import pickle\n",
    "import pandas as pd\n",
    "import numpy as np\n",
    "import requests\n",
    "\n",
    "from io import StringIO\n",
    "from flask import Flask, request, Response\n",
    "\n",
    "\n",
    "# Adiciona o diretório raiz do projeto ao path do Python\n",
    "sys.path.append('../')\n",
    "from api.rossmann.Rossmann import Rossmann\n"
   ]
  },
  {
   "cell_type": "markdown",
   "id": "df63ce24",
   "metadata": {},
   "source": [
    "# LOAD DATA"
   ]
  },
  {
   "cell_type": "code",
   "execution_count": null,
   "id": "5c38c68d",
   "metadata": {},
   "outputs": [],
   "source": [
    "# --- Carregar os dados brutos que o modelo nunca viu ---\n",
    "df_test = pd.read_csv('../data/raw/test.csv', low_memory=False)\n",
    "df_store = pd.read_csv('../data/raw/store.csv', low_memory=False)\n",
    "df_raw = pd.merge(df_test, df_store, on='Store', how='left')"
   ]
  },
  {
   "cell_type": "markdown",
   "id": "afa4d2e6",
   "metadata": {},
   "source": [
    "# DEPLOY"
   ]
  },
  {
   "cell_type": "markdown",
   "id": "0fa01832",
   "metadata": {},
   "source": [
    "## Classe Rossmann"
   ]
  },
  {
   "cell_type": "code",
   "execution_count": null,
   "id": "e23298c9",
   "metadata": {},
   "outputs": [],
   "source": [
    "# 1. Instanciar a classe Rossmann\n",
    "# A classe agora carrega o modelo automaticamente no __init__\n",
    "pipeline = Rossmann()\n",
    "\n",
    "# 2. Criar uma amostra para o teste\n",
    "df_sample = df_raw.sample(n=5, random_state=42)"
   ]
  },
  {
   "cell_type": "markdown",
   "id": "061bef71",
   "metadata": {},
   "source": [
    "### Realizar pré-processamento"
   ]
  },
  {
   "cell_type": "code",
   "execution_count": null,
   "id": "6071d7fb",
   "metadata": {},
   "outputs": [],
   "source": [
    "# 3. Aplicar o pipeline de pré-processamento\n",
    "df_prepared = pipeline.preprocess(df_sample.copy())"
   ]
  },
  {
   "cell_type": "markdown",
   "id": "ce1e93f0",
   "metadata": {},
   "source": [
    "### Executar o modelo de previsão de vendas"
   ]
  },
  {
   "cell_type": "code",
   "execution_count": null,
   "id": "ef5d18b9",
   "metadata": {},
   "outputs": [],
   "source": [
    "# 4. Fazer a previsão (não precisa mais passar o modelo como argumento)\n",
    "df_response_json = pipeline.get_prediction(df_sample, df_prepared)"
   ]
  },
  {
   "cell_type": "markdown",
   "id": "469c9523",
   "metadata": {},
   "source": [
    "### Ver resultado das previsões de vendas"
   ]
  },
  {
   "cell_type": "code",
   "execution_count": 31,
   "id": "88b51b54",
   "metadata": {},
   "outputs": [
    {
     "name": "stdout",
     "output_type": "stream",
     "text": [
      "Amostra das previsões de vendas:\n"
     ]
    },
    {
     "data": {
      "text/html": [
       "<div>\n",
       "<style scoped>\n",
       "    .dataframe tbody tr th:only-of-type {\n",
       "        vertical-align: middle;\n",
       "    }\n",
       "\n",
       "    .dataframe tbody tr th {\n",
       "        vertical-align: top;\n",
       "    }\n",
       "\n",
       "    .dataframe thead th {\n",
       "        text-align: right;\n",
       "    }\n",
       "</style>\n",
       "<table border=\"1\" class=\"dataframe\">\n",
       "  <thead>\n",
       "    <tr style=\"text-align: right;\">\n",
       "      <th></th>\n",
       "      <th>Store</th>\n",
       "      <th>Prediction</th>\n",
       "    </tr>\n",
       "  </thead>\n",
       "  <tbody>\n",
       "    <tr>\n",
       "      <th>0</th>\n",
       "      <td>69</td>\n",
       "      <td>7633.622559</td>\n",
       "    </tr>\n",
       "    <tr>\n",
       "      <th>1</th>\n",
       "      <td>468</td>\n",
       "      <td>5944.266113</td>\n",
       "    </tr>\n",
       "    <tr>\n",
       "      <th>2</th>\n",
       "      <td>728</td>\n",
       "      <td>5752.409668</td>\n",
       "    </tr>\n",
       "    <tr>\n",
       "      <th>3</th>\n",
       "      <td>426</td>\n",
       "      <td>5452.373047</td>\n",
       "    </tr>\n",
       "    <tr>\n",
       "      <th>4</th>\n",
       "      <td>275</td>\n",
       "      <td>3938.385254</td>\n",
       "    </tr>\n",
       "  </tbody>\n",
       "</table>\n",
       "</div>"
      ],
      "text/plain": [
       "   Store   Prediction\n",
       "0     69  7633.622559\n",
       "1    468  5944.266113\n",
       "2    728  5752.409668\n",
       "3    426  5452.373047\n",
       "4    275  3938.385254"
      ]
     },
     "metadata": {},
     "output_type": "display_data"
    }
   ],
   "source": [
    "# 5. Converter o JSON de resposta para um DataFrame para visualização\n",
    "#    2. Usar StringIO para evitar o FutureWarning\n",
    "df_response = pd.read_json(StringIO(df_response_json))\n",
    "\n",
    "# 6. Visualizar o resultado com a coluna 'Prediction'\n",
    "print(\"Amostra das previsões de vendas:\")\n",
    "display(df_response[['Store', 'Prediction']].head())"
   ]
  },
  {
   "cell_type": "markdown",
   "id": "f28228a4",
   "metadata": {},
   "source": [
    "## Chamada da API\n",
    "\n",
    "> Execute o arquivo handler.py, através do comando abaixo, pelo terminal para ativar o serviço e poder testar a API localmente.\n",
    ">\n",
    "> ```python handler.py ```"
   ]
  },
  {
   "cell_type": "markdown",
   "id": "9b6af805",
   "metadata": {},
   "source": [
    "### Definir variáveis na API"
   ]
  },
  {
   "cell_type": "code",
   "execution_count": null,
   "id": "fde470e4",
   "metadata": {},
   "outputs": [],
   "source": [
    "# URL de desenvolvimento\n",
    "url = 'http://0.0.0.0:8080/rossmann/predict'\n",
    "\n",
    "# URL de produção\n",
    "# url = 'https://rossmann-sales-forecast-flnh.onrender.com'\n",
    "\n",
    "header = {\n",
    "    'Content-type': \n",
    "    'application/json' \n",
    "}\n",
    "data = df_response_json"
   ]
  },
  {
   "cell_type": "markdown",
   "id": "ac0477b8",
   "metadata": {},
   "source": [
    "### Executar a API"
   ]
  },
  {
   "cell_type": "code",
   "execution_count": null,
   "id": "a24ac384",
   "metadata": {},
   "outputs": [],
   "source": [
    "r = requests.post(\n",
    "    url, \n",
    "    data=data, \n",
    "    headers=header\n",
    ")\n",
    "print('Status Code {}'.format(r.status_code))"
   ]
  },
  {
   "cell_type": "markdown",
   "id": "59ee41eb",
   "metadata": {},
   "source": [
    "### Visualizar retorno da API"
   ]
  },
  {
   "cell_type": "code",
   "execution_count": 36,
   "id": "24baca3c",
   "metadata": {},
   "outputs": [
    {
     "name": "stdout",
     "output_type": "stream",
     "text": [
      "A loja 69 venderá R$ 7,633.62 nas próximas 6 semanas\n",
      "A loja 275 venderá R$ 3,938.39 nas próximas 6 semanas\n",
      "A loja 426 venderá R$ 5,452.37 nas próximas 6 semanas\n",
      "A loja 468 venderá R$ 5,944.27 nas próximas 6 semanas\n",
      "A loja 728 venderá R$ 5,752.41 nas próximas 6 semanas\n"
     ]
    }
   ],
   "source": [
    "d1 = pd.DataFrame(\n",
    "    r.json(), \n",
    "    columns=r.json()[0].keys()\n",
    ")\n",
    "\n",
    "d2 = (\n",
    "    d1[['Store', 'Prediction']]\n",
    "    .groupby('Store')\n",
    "    .sum()\n",
    "    .reset_index()\n",
    ")\n",
    "\n",
    "for i in range(len( d2 )):\n",
    "    print(\n",
    "        'A loja {} venderá R$ {:,.2f} nas próximas 6 semanas'.format(\n",
    "        d2.loc[i, 'Store'],\n",
    "        d2.loc[i, 'Prediction']) \n",
    "    )"
   ]
  }
 ],
 "metadata": {
  "kernelspec": {
   "display_name": "previsao_vendas_rossmann",
   "language": "python",
   "name": "python3"
  },
  "language_info": {
   "codemirror_mode": {
    "name": "ipython",
    "version": 3
   },
   "file_extension": ".py",
   "mimetype": "text/x-python",
   "name": "python",
   "nbconvert_exporter": "python",
   "pygments_lexer": "ipython3",
   "version": "3.13.3"
  }
 },
 "nbformat": 4,
 "nbformat_minor": 5
}
