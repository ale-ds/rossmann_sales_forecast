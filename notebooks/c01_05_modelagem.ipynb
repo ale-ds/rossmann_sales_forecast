{
 "cells": [
  {
   "cell_type": "markdown",
   "metadata": {},
   "source": [
    "# IMPORTS E CONFIGURAÇÕES"
   ]
  },
  {
   "cell_type": "markdown",
   "metadata": {},
   "source": [
    "## Imports"
   ]
  },
  {
   "cell_type": "code",
   "execution_count": 1,
   "metadata": {},
   "outputs": [],
   "source": [
    "import datetime\n",
    "import pandas as pd\n",
    "import numpy as np\n",
    "import pickle as pkl\n",
    "import random\n",
    "import xgboost as xgb\n",
    "import seaborn as sns\n",
    "\n",
    "from IPython.display import Image\n",
    "from IPython.core.display import HTML\n",
    "\n",
    "import matplotlib.pyplot as plt\n",
    "from sklearn.ensemble import RandomForestRegressor\n",
    "from sklearn.linear_model import LinearRegression, Lasso\n",
    "from sklearn.metrics import mean_absolute_error, mean_squared_error"
   ]
  },
  {
   "cell_type": "markdown",
   "metadata": {},
   "source": [
    "## Configurações"
   ]
  },
  {
   "cell_type": "code",
   "execution_count": 2,
   "metadata": {},
   "outputs": [
    {
     "data": {
      "text/html": [
       "<style>.container { width:80% !important; }</style>"
      ],
      "text/plain": [
       "<IPython.core.display.HTML object>"
      ]
     },
     "metadata": {},
     "output_type": "display_data"
    }
   ],
   "source": [
    "pd.set_option('display.max_columns', None)\n",
    "\n",
    "def jupyter_settings():\n",
    "    plt.style.use( 'bmh' )\n",
    "    plt.rcParams['figure.figsize'] = [25, 12]\n",
    "    plt.rcParams['font.size'] = 24\n",
    "    \n",
    "    display( HTML( '<style>.container { width:80% !important; }</style>') )\n",
    "    pd.options.display.max_columns = None\n",
    "    pd.options.display.max_rows = None\n",
    "    pd.set_option( 'display.expand_frame_repr', False )\n",
    "    \n",
    "    sns.set()\n",
    "\n",
    "jupyter_settings()"
   ]
  },
  {
   "cell_type": "markdown",
   "metadata": {},
   "source": [
    "# HELPER FUNCIONS"
   ]
  },
  {
   "cell_type": "code",
   "execution_count": 3,
   "metadata": {},
   "outputs": [],
   "source": [
    "def mean_percentage_error( y, yhat ):\n",
    "    return np.mean( ( y - yhat ) / y )\n",
    "     \n",
    "def mean_absolute_percentage_error(y, y_pred):\n",
    "    # VerifiCa se há divisão por zero\n",
    "    mask = y != 0\n",
    "    y, y_pred = np.array(y), np.array(y_pred)\n",
    "    # Calcule o MAPE apenas para as instâncias onde y não é zero\n",
    "    return np.mean(np.abs((y[mask] - y_pred[mask]) / y[mask]))\n",
    "\n",
    "def ml_error(model_name, y, yhat):\n",
    "    mae = mean_absolute_error(y, yhat)\n",
    "    mape = mean_absolute_percentage_error(y, yhat)\n",
    "    rmse = np.sqrt(mean_squared_error(y, yhat))\n",
    "    feats = {\n",
    "        'Model Name' : model_name,\n",
    "        'MAE' : mae,\n",
    "        'MAPE': mape,\n",
    "        'RMSE': rmse\n",
    "        }\n",
    "    return pd.DataFrame(feats, index = [0])\n",
    "\n",
    "def cross_validation(x_training, kfold, model_name, model, verbose=False):\n",
    "    mae_list = []\n",
    "    mape_list = []\n",
    "    rmse_list = []\n",
    "    \n",
    "    k = 1\n",
    "    for k in reversed(range(1, kfold+1)):\n",
    "        \n",
    "        # dia inicial e final para validação\n",
    "        validation_start_date = x_training['Date'].max() - datetime.timedelta(days=k*6*7)\n",
    "        validation_end_date = x_training['Date'].max() - datetime.timedelta(days=(k-1)*6*7)\n",
    "\n",
    "        # separar dados em traino e validação\n",
    "        training = x_training[x_training['Date'] < validation_start_date]\n",
    "        validation = x_training[(x_training['Date'] >= validation_start_date) & (x_training['Date'] <= validation_end_date)]\n",
    "\n",
    "        if verbose:\n",
    "            print('KFold Number', k)\n",
    "            print('')\n",
    "            print('Intervalo')\n",
    "            print('início', validation_start_date.strftime(\"%d/%m/%Y\"),\n",
    "                'fim', validation_end_date.strftime(\"%d/%m/%Y\"))\n",
    "            \n",
    "            print('total de dias', (validation_end_date - validation_start_date).days,\n",
    "                'total de semanas', round((validation_end_date - validation_start_date).days / 7))\n",
    "            print('')\n",
    "            \n",
    "            print('Treino')\n",
    "            print('inicio', training.Date.min().strftime(\"%d/%m/%Y\"),\n",
    "                'fim', training.Date.max().strftime(\"%d/%m/%Y\"))\n",
    "            print('dias', (training.Date.max() - training.Date.min()).days,\n",
    "                'semanas', round((training.Date.max() - training.Date.min()).days / 7))\n",
    "            print('')\n",
    "            \n",
    "            print('Validação')\n",
    "            print('inicio', validation.Date.min().strftime(\"%d/%m/%Y\"),\n",
    "                'fim', validation.Date.max().strftime(\"%d/%m/%Y\"))\n",
    "            print('dias', (validation.Date.max() - validation.Date.min()).days,\n",
    "                'semanas', round((validation.Date.max() - validation.Date.min()).days / 7))\n",
    "            print('//')\n",
    "            \n",
    "        # dados de treino e validação\n",
    "        \n",
    "        # treino\n",
    "        ytraining = training['Sales']\n",
    "        xtraining = training.drop(['Date', 'Sales'], axis = 1)\n",
    "        \n",
    "        # validação\n",
    "        yvalidation = validation['Sales']\n",
    "        xvalidation = validation.drop(['Date', 'Sales'], axis = 1)\n",
    "        \n",
    "        # iniciar treino\n",
    "        m = model.fit(xtraining, ytraining)\n",
    "        \n",
    "        # iniciar predição\n",
    "        yhat = m.predict(xvalidation)\n",
    "        \n",
    "        # verificar performance\n",
    "        m_result = ml_error(model_name, np.expm1(yvalidation), np.expm1(yhat))\n",
    "        \n",
    "        # armazena a performance para cada iteração do kfold\n",
    "        mae_list.append(m_result['MAE'])\n",
    "        mape_list.append(m_result['MAPE'])\n",
    "        rmse_list.append(m_result['RMSE'])\n",
    "    \n",
    "    dict_result = {\n",
    "            'Model Name' : model_name,\n",
    "            'MAE' : np.round(np.mean( mae_list ), 2 ).astype( str ) + ' +/- ' + np.round(np.std(mae_list), 2).astype(str),\n",
    "            'MAPE' : np.round(np.mean( mape_list ), 2 ).astype( str ) + ' +/- ' + np.round(np.std(mape_list), 2).astype(str),\n",
    "            'RMSE' : np.round(np.mean( rmse_list ), 2 ).astype( str ) + ' +/- ' + np.round(np.std(rmse_list), 2).astype(str)\n",
    "        }\n",
    "    return pd.DataFrame(dict_result, index=[0])"
   ]
  },
  {
   "cell_type": "markdown",
   "metadata": {},
   "source": [
    "# LOAD DATA"
   ]
  },
  {
   "cell_type": "code",
   "execution_count": 4,
   "metadata": {},
   "outputs": [],
   "source": [
    "features_selected = pkl.load( open( \"../model/pre-processing/list_features_selected.pkl\", \"rb\" ) )\n",
    "X_train, X_test, y_train, y_test = pkl.load( open( \"../data/transformed/train_test_data.pkl\", \"rb\" ) )"
   ]
  },
  {
   "cell_type": "markdown",
   "metadata": {},
   "source": [
    "# MODELAGEM"
   ]
  },
  {
   "cell_type": "markdown",
   "metadata": {},
   "source": [
    "## Separar dados de treino e teste"
   ]
  },
  {
   "cell_type": "code",
   "execution_count": 5,
   "metadata": {},
   "outputs": [],
   "source": [
    "# Features selecionadas para o modelo\n",
    "features_selected_droped = [feature for feature in features_selected if feature not in ['Date', 'Sales']]\n",
    "\n",
    "# Separação entre treino e teste\n",
    "x_train = X_train[features_selected_droped]\n",
    "x_test = X_test[features_selected_droped]\n",
    "\n",
    "# Validação Cruzada\n",
    "x_train_cv = x_train.copy()\n",
    "x_train_cv['Date'] = X_train['Date']\n",
    "x_train_cv['Sales'] = y_train.copy()\n",
    "\n",
    "# Time Series Data Preparation\n",
    "x_training = X_train[features_selected]"
   ]
  },
  {
   "cell_type": "markdown",
   "metadata": {},
   "source": [
    "## Implementar modelos"
   ]
  },
  {
   "cell_type": "markdown",
   "metadata": {},
   "source": [
    "### Modelos Lineares"
   ]
  },
  {
   "cell_type": "markdown",
   "metadata": {},
   "source": [
    "#### Simples"
   ]
  },
  {
   "cell_type": "markdown",
   "metadata": {},
   "source": [
    "##### Modelo de média\n",
    "> Obs: O principal papel do modelo de média é ser uma base comparativa para performance do outros modelos."
   ]
  },
  {
   "cell_type": "code",
   "execution_count": 6,
   "metadata": {},
   "outputs": [],
   "source": [
    "aux1 = x_test.copy()\n",
    "aux1['Sales'] = y_test.copy()\n",
    "\n",
    "# average model\n",
    "aux2 = (\n",
    "    aux1[['Store', 'Sales']]\n",
    "    .groupby('Store')\n",
    "    .mean()\n",
    "    .reset_index()\n",
    "    .rename(columns = {'Sales': 'Predictions'})\n",
    ")\n",
    "aux1 = pd.merge(aux1, aux2, how = 'left', on = 'Store')\n",
    "yhat_baseline = aux1['Predictions']"
   ]
  },
  {
   "cell_type": "code",
   "execution_count": null,
   "metadata": {},
   "outputs": [
    {
     "data": {
      "text/html": [
       "<div>\n",
       "<style scoped>\n",
       "    .dataframe tbody tr th:only-of-type {\n",
       "        vertical-align: middle;\n",
       "    }\n",
       "\n",
       "    .dataframe tbody tr th {\n",
       "        vertical-align: top;\n",
       "    }\n",
       "\n",
       "    .dataframe thead th {\n",
       "        text-align: right;\n",
       "    }\n",
       "</style>\n",
       "<table border=\"1\" class=\"dataframe\">\n",
       "  <thead>\n",
       "    <tr style=\"text-align: right;\">\n",
       "      <th></th>\n",
       "      <th>0</th>\n",
       "    </tr>\n",
       "  </thead>\n",
       "  <tbody>\n",
       "    <tr>\n",
       "      <th>Model Name</th>\n",
       "      <td>Modelo de Média</td>\n",
       "    </tr>\n",
       "    <tr>\n",
       "      <th>MAE</th>\n",
       "      <td>1354.800353</td>\n",
       "    </tr>\n",
       "    <tr>\n",
       "      <th>MAPE</th>\n",
       "      <td>0.2064</td>\n",
       "    </tr>\n",
       "    <tr>\n",
       "      <th>RMSE</th>\n",
       "      <td>1835.135542</td>\n",
       "    </tr>\n",
       "  </tbody>\n",
       "</table>\n",
       "</div>"
      ],
      "text/plain": [
       "                          0\n",
       "Model Name  Modelo de Média\n",
       "MAE             1354.800353\n",
       "MAPE                 0.2064\n",
       "RMSE            1835.135542"
      ]
     },
     "execution_count": 7,
     "metadata": {},
     "output_type": "execute_result"
    }
   ],
   "source": [
    "# performance\n",
    "baseline_result = ml_error(\n",
    "    'Modelo de Média', \n",
    "    np.expm1(y_test), \n",
    "    np.expm1(yhat_baseline)\n",
    ")\n",
    "baseline_result.T"
   ]
  },
  {
   "cell_type": "markdown",
   "metadata": {},
   "source": [
    "##### Regressão Linear"
   ]
  },
  {
   "cell_type": "code",
   "execution_count": null,
   "metadata": {},
   "outputs": [],
   "source": [
    "# Iniciar Regressão Linear\n",
    "lr = (\n",
    "    LinearRegression()\n",
    "    .fit(x_train, y_train)\n",
    ")\n",
    "\n",
    "# Realizar predição\n",
    "yhat_1r = lr.predict(x_test)"
   ]
  },
  {
   "cell_type": "code",
   "execution_count": null,
   "metadata": {},
   "outputs": [
    {
     "data": {
      "text/html": [
       "<div>\n",
       "<style scoped>\n",
       "    .dataframe tbody tr th:only-of-type {\n",
       "        vertical-align: middle;\n",
       "    }\n",
       "\n",
       "    .dataframe tbody tr th {\n",
       "        vertical-align: top;\n",
       "    }\n",
       "\n",
       "    .dataframe thead th {\n",
       "        text-align: right;\n",
       "    }\n",
       "</style>\n",
       "<table border=\"1\" class=\"dataframe\">\n",
       "  <thead>\n",
       "    <tr style=\"text-align: right;\">\n",
       "      <th></th>\n",
       "      <th>0</th>\n",
       "    </tr>\n",
       "  </thead>\n",
       "  <tbody>\n",
       "    <tr>\n",
       "      <th>Model Name</th>\n",
       "      <td>Regressão Linear</td>\n",
       "    </tr>\n",
       "    <tr>\n",
       "      <th>MAE</th>\n",
       "      <td>1867.089774</td>\n",
       "    </tr>\n",
       "    <tr>\n",
       "      <th>MAPE</th>\n",
       "      <td>0.292694</td>\n",
       "    </tr>\n",
       "    <tr>\n",
       "      <th>RMSE</th>\n",
       "      <td>2671.049215</td>\n",
       "    </tr>\n",
       "  </tbody>\n",
       "</table>\n",
       "</div>"
      ],
      "text/plain": [
       "                           0\n",
       "Model Name  Regressão Linear\n",
       "MAE              1867.089774\n",
       "MAPE                0.292694\n",
       "RMSE             2671.049215"
      ]
     },
     "execution_count": 9,
     "metadata": {},
     "output_type": "execute_result"
    }
   ],
   "source": [
    "# Verificar resultado\n",
    "lr_result = ml_error(\n",
    "    'Regressão Linear', \n",
    "    np.expm1(y_test), \n",
    "    np.expm1(yhat_1r)\n",
    ")\n",
    "lr_result.T"
   ]
  },
  {
   "cell_type": "markdown",
   "metadata": {},
   "source": [
    "> Obs: O valor de RMSE do modelo LinearRegression é maior que o RMSE do Modelo de Média, isso indica que os dados tem um comportamento complexo e não lineares, e nesse caso um modelo linear não seria indicado, pois seu erro é maior que o erro de média. Modelos lineares não conseguirão aprender o comportamento desses dados."
   ]
  },
  {
   "cell_type": "markdown",
   "metadata": {},
   "source": [
    "##### LASSO: Regressão Linear Regularizado\n",
    "> Obs: Lasso é o modelo de regressão linear regularizado."
   ]
  },
  {
   "cell_type": "code",
   "execution_count": null,
   "metadata": {},
   "outputs": [],
   "source": [
    "# Iniciar o modelo Lasso\n",
    "lrr = (\n",
    "    Lasso(alpha = 0.01)\n",
    "    .fit(x_train, y_train)\n",
    ")\n",
    "\n",
    "# Realizar a predição\n",
    "yhat_lrr = lrr.predict(x_test)"
   ]
  },
  {
   "cell_type": "code",
   "execution_count": null,
   "metadata": {},
   "outputs": [
    {
     "data": {
      "text/html": [
       "<div>\n",
       "<style scoped>\n",
       "    .dataframe tbody tr th:only-of-type {\n",
       "        vertical-align: middle;\n",
       "    }\n",
       "\n",
       "    .dataframe tbody tr th {\n",
       "        vertical-align: top;\n",
       "    }\n",
       "\n",
       "    .dataframe thead th {\n",
       "        text-align: right;\n",
       "    }\n",
       "</style>\n",
       "<table border=\"1\" class=\"dataframe\">\n",
       "  <thead>\n",
       "    <tr style=\"text-align: right;\">\n",
       "      <th></th>\n",
       "      <th>0</th>\n",
       "    </tr>\n",
       "  </thead>\n",
       "  <tbody>\n",
       "    <tr>\n",
       "      <th>Model Name</th>\n",
       "      <td>Regressão Linear - Lasso</td>\n",
       "    </tr>\n",
       "    <tr>\n",
       "      <th>MAE</th>\n",
       "      <td>1900.35215</td>\n",
       "    </tr>\n",
       "    <tr>\n",
       "      <th>MAPE</th>\n",
       "      <td>0.288484</td>\n",
       "    </tr>\n",
       "    <tr>\n",
       "      <th>RMSE</th>\n",
       "      <td>2768.024744</td>\n",
       "    </tr>\n",
       "  </tbody>\n",
       "</table>\n",
       "</div>"
      ],
      "text/plain": [
       "                                   0\n",
       "Model Name  Regressão Linear - Lasso\n",
       "MAE                       1900.35215\n",
       "MAPE                        0.288484\n",
       "RMSE                     2768.024744"
      ]
     },
     "execution_count": 11,
     "metadata": {},
     "output_type": "execute_result"
    }
   ],
   "source": [
    "# Verificar resultado\n",
    "lrr_result = ml_error(\n",
    "    'Regressão Linear - Lasso', \n",
    "    np.expm1(y_test), \n",
    "    np.expm1(yhat_lrr)\n",
    ")\n",
    "lrr_result.T"
   ]
  },
  {
   "cell_type": "markdown",
   "metadata": {},
   "source": [
    "#### Validação Cruzda"
   ]
  },
  {
   "cell_type": "markdown",
   "metadata": {},
   "source": [
    "##### Validação Cruzada: Regressão Linear"
   ]
  },
  {
   "cell_type": "code",
   "execution_count": null,
   "metadata": {},
   "outputs": [],
   "source": [
    "# Iniciar Validação Cruzada da Regressão Linear\n",
    "lr_result_cv = cross_validation(\n",
    "    x_train_cv, \n",
    "    5, \n",
    "    'Regressão Linear CV', \n",
    "    lr\n",
    ")"
   ]
  },
  {
   "cell_type": "code",
   "execution_count": 13,
   "metadata": {},
   "outputs": [
    {
     "data": {
      "text/html": [
       "<div>\n",
       "<style scoped>\n",
       "    .dataframe tbody tr th:only-of-type {\n",
       "        vertical-align: middle;\n",
       "    }\n",
       "\n",
       "    .dataframe tbody tr th {\n",
       "        vertical-align: top;\n",
       "    }\n",
       "\n",
       "    .dataframe thead th {\n",
       "        text-align: right;\n",
       "    }\n",
       "</style>\n",
       "<table border=\"1\" class=\"dataframe\">\n",
       "  <thead>\n",
       "    <tr style=\"text-align: right;\">\n",
       "      <th></th>\n",
       "      <th>0</th>\n",
       "    </tr>\n",
       "  </thead>\n",
       "  <tbody>\n",
       "    <tr>\n",
       "      <th>Model Name</th>\n",
       "      <td>Regressão Linear CV</td>\n",
       "    </tr>\n",
       "    <tr>\n",
       "      <th>MAE</th>\n",
       "      <td>2081.73 +/- 295.63</td>\n",
       "    </tr>\n",
       "    <tr>\n",
       "      <th>MAPE</th>\n",
       "      <td>0.3 +/- 0.02</td>\n",
       "    </tr>\n",
       "    <tr>\n",
       "      <th>RMSE</th>\n",
       "      <td>2952.52 +/- 468.37</td>\n",
       "    </tr>\n",
       "  </tbody>\n",
       "</table>\n",
       "</div>"
      ],
      "text/plain": [
       "                              0\n",
       "Model Name  Regressão Linear CV\n",
       "MAE          2081.73 +/- 295.63\n",
       "MAPE               0.3 +/- 0.02\n",
       "RMSE         2952.52 +/- 468.37"
      ]
     },
     "execution_count": 13,
     "metadata": {},
     "output_type": "execute_result"
    }
   ],
   "source": [
    "lr_result_cv.T"
   ]
  },
  {
   "cell_type": "markdown",
   "metadata": {},
   "source": [
    "##### Validação Cruzada: LASSO"
   ]
  },
  {
   "cell_type": "code",
   "execution_count": null,
   "metadata": {},
   "outputs": [],
   "source": [
    "# Iniciar validação cruzada do modelo LASSO\n",
    "lrr_result_cv = cross_validation(\n",
    "    x_train_cv, \n",
    "    5, \n",
    "    'Lasso CV', \n",
    "    lrr\n",
    ")"
   ]
  },
  {
   "cell_type": "code",
   "execution_count": 15,
   "metadata": {},
   "outputs": [
    {
     "data": {
      "text/html": [
       "<div>\n",
       "<style scoped>\n",
       "    .dataframe tbody tr th:only-of-type {\n",
       "        vertical-align: middle;\n",
       "    }\n",
       "\n",
       "    .dataframe tbody tr th {\n",
       "        vertical-align: top;\n",
       "    }\n",
       "\n",
       "    .dataframe thead th {\n",
       "        text-align: right;\n",
       "    }\n",
       "</style>\n",
       "<table border=\"1\" class=\"dataframe\">\n",
       "  <thead>\n",
       "    <tr style=\"text-align: right;\">\n",
       "      <th></th>\n",
       "      <th>0</th>\n",
       "    </tr>\n",
       "  </thead>\n",
       "  <tbody>\n",
       "    <tr>\n",
       "      <th>Model Name</th>\n",
       "      <td>Lasso CV</td>\n",
       "    </tr>\n",
       "    <tr>\n",
       "      <th>MAE</th>\n",
       "      <td>2128.31 +/- 368.92</td>\n",
       "    </tr>\n",
       "    <tr>\n",
       "      <th>MAPE</th>\n",
       "      <td>0.3 +/- 0.01</td>\n",
       "    </tr>\n",
       "    <tr>\n",
       "      <th>RMSE</th>\n",
       "      <td>3067.48 +/- 549.4</td>\n",
       "    </tr>\n",
       "  </tbody>\n",
       "</table>\n",
       "</div>"
      ],
      "text/plain": [
       "                             0\n",
       "Model Name            Lasso CV\n",
       "MAE         2128.31 +/- 368.92\n",
       "MAPE              0.3 +/- 0.01\n",
       "RMSE         3067.48 +/- 549.4"
      ]
     },
     "execution_count": 15,
     "metadata": {},
     "output_type": "execute_result"
    }
   ],
   "source": [
    "lrr_result_cv.T"
   ]
  },
  {
   "cell_type": "markdown",
   "metadata": {},
   "source": [
    "### Modelos não lineares\n",
    "> Obs: Esses modelos baseados em árvores foram adaptados para regressão, originalmente foram feitas para classificação."
   ]
  },
  {
   "cell_type": "markdown",
   "metadata": {},
   "source": [
    "#### Simples"
   ]
  },
  {
   "cell_type": "markdown",
   "metadata": {},
   "source": [
    "##### Random Forest Regressor"
   ]
  },
  {
   "cell_type": "code",
   "execution_count": 16,
   "metadata": {},
   "outputs": [],
   "source": [
    "# Iniciar modelo Random Forest Regressor\n",
    "rf = RandomForestRegressor(\n",
    "    n_estimators=100, \n",
    "    n_jobs=-1, \n",
    "    random_state=42\n",
    ")\n",
    "rf.fit(x_train, y_train)\n",
    "\n",
    "# Realizar a predição\n",
    "yhat_rf = rf.predict(x_test)\n",
    "\n",
    "# Verificar a performance\n",
    "rf_result = ml_error(\n",
    "    'Random Forest Regressor', \n",
    "    np.expm1(y_test), \n",
    "    np.expm1(yhat_rf)\n",
    ")"
   ]
  },
  {
   "cell_type": "code",
   "execution_count": 17,
   "metadata": {},
   "outputs": [
    {
     "data": {
      "text/html": [
       "<div>\n",
       "<style scoped>\n",
       "    .dataframe tbody tr th:only-of-type {\n",
       "        vertical-align: middle;\n",
       "    }\n",
       "\n",
       "    .dataframe tbody tr th {\n",
       "        vertical-align: top;\n",
       "    }\n",
       "\n",
       "    .dataframe thead th {\n",
       "        text-align: right;\n",
       "    }\n",
       "</style>\n",
       "<table border=\"1\" class=\"dataframe\">\n",
       "  <thead>\n",
       "    <tr style=\"text-align: right;\">\n",
       "      <th></th>\n",
       "      <th>0</th>\n",
       "    </tr>\n",
       "  </thead>\n",
       "  <tbody>\n",
       "    <tr>\n",
       "      <th>Model Name</th>\n",
       "      <td>Random Forest Regressor</td>\n",
       "    </tr>\n",
       "    <tr>\n",
       "      <th>MAE</th>\n",
       "      <td>678.211601</td>\n",
       "    </tr>\n",
       "    <tr>\n",
       "      <th>MAPE</th>\n",
       "      <td>0.099792</td>\n",
       "    </tr>\n",
       "    <tr>\n",
       "      <th>RMSE</th>\n",
       "      <td>1008.959556</td>\n",
       "    </tr>\n",
       "  </tbody>\n",
       "</table>\n",
       "</div>"
      ],
      "text/plain": [
       "                                  0\n",
       "Model Name  Random Forest Regressor\n",
       "MAE                      678.211601\n",
       "MAPE                       0.099792\n",
       "RMSE                    1008.959556"
      ]
     },
     "execution_count": 17,
     "metadata": {},
     "output_type": "execute_result"
    }
   ],
   "source": [
    "rf_result.T"
   ]
  },
  {
   "cell_type": "markdown",
   "metadata": {},
   "source": [
    "##### XGBoost\n",
    "> Obs: Utiliza um método que seleciona as variáveis mais relevantes mais rápido e tem uma performace melhor que o modelo de floresta aleatória."
   ]
  },
  {
   "cell_type": "code",
   "execution_count": 18,
   "metadata": {},
   "outputs": [],
   "source": [
    "# Iniciar modelp XGBRegressor\n",
    "# objective -> função objetiva, para o problema de regressão usaremos o reg:squarederror\n",
    "# eta -> quantas passadas é usada para fazer o aprendizado\n",
    "# max_depth -> máxima profundidade de ramificações que a árvore pode chegar\n",
    "# subsample -> quantidade de amostras ou porcentagem de todas as variáveis \n",
    "# disponíveis para fazer uma amostragem para selecionar as mais relevantes\n",
    "model_xgb = xgb.XGBRegressor(\n",
    "    objective='reg:squarederror',\n",
    "    n_estimators=100,\n",
    "    eta=0.1,\n",
    "    max_depth=10,\n",
    "    subsample=0.7,\n",
    "    colsample_bytree=0.9\n",
    ")\n",
    "model_xgb.fit(x_train, y_train)\n",
    "\n",
    "# Realizar a predição\n",
    "yhat_xgb = model_xgb.predict(x_test)\n",
    "\n",
    "# Verificar performance\n",
    "xgb_result = ml_error(\n",
    "    'XGBoost Regressor', \n",
    "    np.expm1(y_test), \n",
    "    np.expm1(yhat_xgb)\n",
    ")"
   ]
  },
  {
   "cell_type": "code",
   "execution_count": 19,
   "metadata": {},
   "outputs": [
    {
     "data": {
      "text/html": [
       "<div>\n",
       "<style scoped>\n",
       "    .dataframe tbody tr th:only-of-type {\n",
       "        vertical-align: middle;\n",
       "    }\n",
       "\n",
       "    .dataframe tbody tr th {\n",
       "        vertical-align: top;\n",
       "    }\n",
       "\n",
       "    .dataframe thead th {\n",
       "        text-align: right;\n",
       "    }\n",
       "</style>\n",
       "<table border=\"1\" class=\"dataframe\">\n",
       "  <thead>\n",
       "    <tr style=\"text-align: right;\">\n",
       "      <th></th>\n",
       "      <th>0</th>\n",
       "    </tr>\n",
       "  </thead>\n",
       "  <tbody>\n",
       "    <tr>\n",
       "      <th>Model Name</th>\n",
       "      <td>XGBoost Regressor</td>\n",
       "    </tr>\n",
       "    <tr>\n",
       "      <th>MAE</th>\n",
       "      <td>819.07702</td>\n",
       "    </tr>\n",
       "    <tr>\n",
       "      <th>MAPE</th>\n",
       "      <td>0.119289</td>\n",
       "    </tr>\n",
       "    <tr>\n",
       "      <th>RMSE</th>\n",
       "      <td>1204.612453</td>\n",
       "    </tr>\n",
       "  </tbody>\n",
       "</table>\n",
       "</div>"
      ],
      "text/plain": [
       "                            0\n",
       "Model Name  XGBoost Regressor\n",
       "MAE                 819.07702\n",
       "MAPE                 0.119289\n",
       "RMSE              1204.612453"
      ]
     },
     "execution_count": 19,
     "metadata": {},
     "output_type": "execute_result"
    }
   ],
   "source": [
    "xgb_result.T"
   ]
  },
  {
   "cell_type": "markdown",
   "metadata": {},
   "source": [
    "#### Validação Cruzada"
   ]
  },
  {
   "cell_type": "markdown",
   "metadata": {},
   "source": [
    "##### Validação Cruzada: Random Forest Regressor"
   ]
  },
  {
   "cell_type": "code",
   "execution_count": 20,
   "metadata": {},
   "outputs": [],
   "source": [
    "rf_result_cv = cross_validation(\n",
    "    x_train_cv, \n",
    "    5, \n",
    "    'Random Forest Regressor CV', \n",
    "    rf\n",
    ")"
   ]
  },
  {
   "cell_type": "code",
   "execution_count": 21,
   "metadata": {},
   "outputs": [
    {
     "data": {
      "text/html": [
       "<div>\n",
       "<style scoped>\n",
       "    .dataframe tbody tr th:only-of-type {\n",
       "        vertical-align: middle;\n",
       "    }\n",
       "\n",
       "    .dataframe tbody tr th {\n",
       "        vertical-align: top;\n",
       "    }\n",
       "\n",
       "    .dataframe thead th {\n",
       "        text-align: right;\n",
       "    }\n",
       "</style>\n",
       "<table border=\"1\" class=\"dataframe\">\n",
       "  <thead>\n",
       "    <tr style=\"text-align: right;\">\n",
       "      <th></th>\n",
       "      <th>0</th>\n",
       "    </tr>\n",
       "  </thead>\n",
       "  <tbody>\n",
       "    <tr>\n",
       "      <th>Model Name</th>\n",
       "      <td>Random Forest Regressor CV</td>\n",
       "    </tr>\n",
       "    <tr>\n",
       "      <th>MAE</th>\n",
       "      <td>840.49 +/- 220.3</td>\n",
       "    </tr>\n",
       "    <tr>\n",
       "      <th>MAPE</th>\n",
       "      <td>0.12 +/- 0.02</td>\n",
       "    </tr>\n",
       "    <tr>\n",
       "      <th>RMSE</th>\n",
       "      <td>1261.41 +/- 323.58</td>\n",
       "    </tr>\n",
       "  </tbody>\n",
       "</table>\n",
       "</div>"
      ],
      "text/plain": [
       "                                     0\n",
       "Model Name  Random Forest Regressor CV\n",
       "MAE                   840.49 +/- 220.3\n",
       "MAPE                     0.12 +/- 0.02\n",
       "RMSE                1261.41 +/- 323.58"
      ]
     },
     "execution_count": 21,
     "metadata": {},
     "output_type": "execute_result"
    }
   ],
   "source": [
    "rf_result_cv.T"
   ]
  },
  {
   "cell_type": "markdown",
   "metadata": {},
   "source": [
    "##### Validação Cruzada: XGBoost"
   ]
  },
  {
   "cell_type": "code",
   "execution_count": 22,
   "metadata": {},
   "outputs": [],
   "source": [
    "xgb_result_cv = cross_validation(\n",
    "    x_train_cv, \n",
    "    5, \n",
    "    'XGBoost Regressor CV', \n",
    "    model_xgb\n",
    ")"
   ]
  },
  {
   "cell_type": "code",
   "execution_count": 23,
   "metadata": {},
   "outputs": [
    {
     "data": {
      "text/html": [
       "<div>\n",
       "<style scoped>\n",
       "    .dataframe tbody tr th:only-of-type {\n",
       "        vertical-align: middle;\n",
       "    }\n",
       "\n",
       "    .dataframe tbody tr th {\n",
       "        vertical-align: top;\n",
       "    }\n",
       "\n",
       "    .dataframe thead th {\n",
       "        text-align: right;\n",
       "    }\n",
       "</style>\n",
       "<table border=\"1\" class=\"dataframe\">\n",
       "  <thead>\n",
       "    <tr style=\"text-align: right;\">\n",
       "      <th></th>\n",
       "      <th>0</th>\n",
       "    </tr>\n",
       "  </thead>\n",
       "  <tbody>\n",
       "    <tr>\n",
       "      <th>Model Name</th>\n",
       "      <td>XGBoost Regressor CV</td>\n",
       "    </tr>\n",
       "    <tr>\n",
       "      <th>MAE</th>\n",
       "      <td>1010.82 +/- 183.81</td>\n",
       "    </tr>\n",
       "    <tr>\n",
       "      <th>MAPE</th>\n",
       "      <td>0.14 +/- 0.02</td>\n",
       "    </tr>\n",
       "    <tr>\n",
       "      <th>RMSE</th>\n",
       "      <td>1454.53 +/- 256.66</td>\n",
       "    </tr>\n",
       "  </tbody>\n",
       "</table>\n",
       "</div>"
      ],
      "text/plain": [
       "                               0\n",
       "Model Name  XGBoost Regressor CV\n",
       "MAE           1010.82 +/- 183.81\n",
       "MAPE               0.14 +/- 0.02\n",
       "RMSE          1454.53 +/- 256.66"
      ]
     },
     "execution_count": 23,
     "metadata": {},
     "output_type": "execute_result"
    }
   ],
   "source": [
    "xgb_result_cv.T"
   ]
  },
  {
   "cell_type": "markdown",
   "metadata": {},
   "source": [
    "## Resultado dos Modelos"
   ]
  },
  {
   "cell_type": "markdown",
   "metadata": {},
   "source": [
    "### Performance Simples"
   ]
  },
  {
   "cell_type": "code",
   "execution_count": 24,
   "metadata": {},
   "outputs": [
    {
     "data": {
      "text/html": [
       "<div>\n",
       "<style scoped>\n",
       "    .dataframe tbody tr th:only-of-type {\n",
       "        vertical-align: middle;\n",
       "    }\n",
       "\n",
       "    .dataframe tbody tr th {\n",
       "        vertical-align: top;\n",
       "    }\n",
       "\n",
       "    .dataframe thead th {\n",
       "        text-align: right;\n",
       "    }\n",
       "</style>\n",
       "<table border=\"1\" class=\"dataframe\">\n",
       "  <thead>\n",
       "    <tr style=\"text-align: right;\">\n",
       "      <th></th>\n",
       "      <th>Model Name</th>\n",
       "      <th>MAE</th>\n",
       "      <th>MAPE</th>\n",
       "      <th>RMSE</th>\n",
       "    </tr>\n",
       "  </thead>\n",
       "  <tbody>\n",
       "    <tr>\n",
       "      <th>0</th>\n",
       "      <td>Random Forest Regressor</td>\n",
       "      <td>678.211601</td>\n",
       "      <td>0.099792</td>\n",
       "      <td>1008.959556</td>\n",
       "    </tr>\n",
       "    <tr>\n",
       "      <th>0</th>\n",
       "      <td>XGBoost Regressor</td>\n",
       "      <td>819.077020</td>\n",
       "      <td>0.119289</td>\n",
       "      <td>1204.612453</td>\n",
       "    </tr>\n",
       "    <tr>\n",
       "      <th>0</th>\n",
       "      <td>Modelo de Média</td>\n",
       "      <td>1354.800353</td>\n",
       "      <td>0.206400</td>\n",
       "      <td>1835.135542</td>\n",
       "    </tr>\n",
       "    <tr>\n",
       "      <th>0</th>\n",
       "      <td>Regressão Linear</td>\n",
       "      <td>1867.089774</td>\n",
       "      <td>0.292694</td>\n",
       "      <td>2671.049215</td>\n",
       "    </tr>\n",
       "    <tr>\n",
       "      <th>0</th>\n",
       "      <td>Regressão Linear - Lasso</td>\n",
       "      <td>1900.352150</td>\n",
       "      <td>0.288484</td>\n",
       "      <td>2768.024744</td>\n",
       "    </tr>\n",
       "  </tbody>\n",
       "</table>\n",
       "</div>"
      ],
      "text/plain": [
       "                 Model Name          MAE      MAPE         RMSE\n",
       "0   Random Forest Regressor   678.211601  0.099792  1008.959556\n",
       "0         XGBoost Regressor   819.077020  0.119289  1204.612453\n",
       "0           Modelo de Média  1354.800353  0.206400  1835.135542\n",
       "0          Regressão Linear  1867.089774  0.292694  2671.049215\n",
       "0  Regressão Linear - Lasso  1900.352150  0.288484  2768.024744"
      ]
     },
     "execution_count": 24,
     "metadata": {},
     "output_type": "execute_result"
    }
   ],
   "source": [
    "modelling_result = pd.concat(\n",
    "    [\n",
    "        baseline_result,\n",
    "        lr_result,\n",
    "        lrr_result,\n",
    "        rf_result,\n",
    "        xgb_result,\n",
    "    ]\n",
    ")\n",
    "modelling_result.sort_values('RMSE')"
   ]
  },
  {
   "cell_type": "markdown",
   "metadata": {},
   "source": [
    "> O fenômeno que estamos querendo modelar não é um problema simples, por isso os modelos lineares não funcionam muito bem nesses casos."
   ]
  },
  {
   "cell_type": "markdown",
   "metadata": {},
   "source": [
    "### Performance Cross Validation"
   ]
  },
  {
   "cell_type": "code",
   "execution_count": 25,
   "metadata": {},
   "outputs": [
    {
     "data": {
      "text/html": [
       "<div>\n",
       "<style scoped>\n",
       "    .dataframe tbody tr th:only-of-type {\n",
       "        vertical-align: middle;\n",
       "    }\n",
       "\n",
       "    .dataframe tbody tr th {\n",
       "        vertical-align: top;\n",
       "    }\n",
       "\n",
       "    .dataframe thead th {\n",
       "        text-align: right;\n",
       "    }\n",
       "</style>\n",
       "<table border=\"1\" class=\"dataframe\">\n",
       "  <thead>\n",
       "    <tr style=\"text-align: right;\">\n",
       "      <th></th>\n",
       "      <th>Model Name</th>\n",
       "      <th>MAE</th>\n",
       "      <th>MAPE</th>\n",
       "      <th>RMSE</th>\n",
       "    </tr>\n",
       "  </thead>\n",
       "  <tbody>\n",
       "    <tr>\n",
       "      <th>0</th>\n",
       "      <td>Random Forest Regressor CV</td>\n",
       "      <td>840.49 +/- 220.3</td>\n",
       "      <td>0.12 +/- 0.02</td>\n",
       "      <td>1261.41 +/- 323.58</td>\n",
       "    </tr>\n",
       "    <tr>\n",
       "      <th>0</th>\n",
       "      <td>XGBoost Regressor CV</td>\n",
       "      <td>1010.82 +/- 183.81</td>\n",
       "      <td>0.14 +/- 0.02</td>\n",
       "      <td>1454.53 +/- 256.66</td>\n",
       "    </tr>\n",
       "    <tr>\n",
       "      <th>0</th>\n",
       "      <td>Regressão Linear CV</td>\n",
       "      <td>2081.73 +/- 295.63</td>\n",
       "      <td>0.3 +/- 0.02</td>\n",
       "      <td>2952.52 +/- 468.37</td>\n",
       "    </tr>\n",
       "    <tr>\n",
       "      <th>0</th>\n",
       "      <td>Lasso CV</td>\n",
       "      <td>2128.31 +/- 368.92</td>\n",
       "      <td>0.3 +/- 0.01</td>\n",
       "      <td>3067.48 +/- 549.4</td>\n",
       "    </tr>\n",
       "  </tbody>\n",
       "</table>\n",
       "</div>"
      ],
      "text/plain": [
       "                   Model Name                 MAE           MAPE                RMSE\n",
       "0  Random Forest Regressor CV    840.49 +/- 220.3  0.12 +/- 0.02  1261.41 +/- 323.58\n",
       "0        XGBoost Regressor CV  1010.82 +/- 183.81  0.14 +/- 0.02  1454.53 +/- 256.66\n",
       "0         Regressão Linear CV  2081.73 +/- 295.63   0.3 +/- 0.02  2952.52 +/- 468.37\n",
       "0                    Lasso CV  2128.31 +/- 368.92   0.3 +/- 0.01   3067.48 +/- 549.4"
      ]
     },
     "execution_count": 25,
     "metadata": {},
     "output_type": "execute_result"
    }
   ],
   "source": [
    "modelling_result_cv = pd.concat(\n",
    "    [\n",
    "        lr_result_cv,\n",
    "        lrr_result_cv,\n",
    "        rf_result_cv,\n",
    "        xgb_result_cv\n",
    "    ]\n",
    ")\n",
    "modelling_result_cv.sort_values('RMSE')"
   ]
  },
  {
   "cell_type": "markdown",
   "metadata": {},
   "source": [
    "> A RandomForest teve um resultado melhor que os demais modelos, e a XGBoot foi o segundo modelo com a melhor performance, mostrando a diferença dos modelos lineares e não lineares. Seguiremos com o modelo XGBoost por exigir custo computacional muito menor que o modelo Ramdon Forest."
   ]
  },
  {
   "cell_type": "markdown",
   "metadata": {},
   "source": [
    "# TUNAGEM DE HIPERPARÂMETROS"
   ]
  },
  {
   "cell_type": "markdown",
   "metadata": {},
   "source": [
    "### Random Search"
   ]
  },
  {
   "cell_type": "code",
   "execution_count": 26,
   "metadata": {},
   "outputs": [
    {
     "name": "stdout",
     "output_type": "stream",
     "text": [
      "Iteração 1 de 5\n",
      "{'n_estimators': 3500, 'eta': 0.07, 'max_depth': 5, 'subsample': 0.7, 'colsample_bytree': 0.3, 'min_child_weight': 15}\n",
      "KFold Number 5\n",
      "\n",
      "Intervalo\n",
      "início 20/11/2014 fim 01/01/2015\n",
      "total de dias 42 total de semanas 6\n",
      "\n",
      "Treino\n",
      "inicio 01/01/2013 fim 19/11/2014\n",
      "dias 687 semanas 98\n",
      "\n",
      "Validação\n",
      "inicio 20/11/2014 fim 01/01/2015\n",
      "dias 42 semanas 6\n",
      "//\n",
      "KFold Number 4\n",
      "\n",
      "Intervalo\n",
      "início 01/01/2015 fim 12/02/2015\n",
      "total de dias 42 total de semanas 6\n",
      "\n",
      "Treino\n",
      "inicio 01/01/2013 fim 31/12/2014\n",
      "dias 729 semanas 104\n",
      "\n",
      "Validação\n",
      "inicio 01/01/2015 fim 12/02/2015\n",
      "dias 42 semanas 6\n",
      "//\n",
      "KFold Number 3\n",
      "\n",
      "Intervalo\n",
      "início 12/02/2015 fim 26/03/2015\n",
      "total de dias 42 total de semanas 6\n",
      "\n",
      "Treino\n",
      "inicio 01/01/2013 fim 11/02/2015\n",
      "dias 771 semanas 110\n",
      "\n",
      "Validação\n",
      "inicio 12/02/2015 fim 26/03/2015\n",
      "dias 42 semanas 6\n",
      "//\n",
      "KFold Number 2\n",
      "\n",
      "Intervalo\n",
      "início 26/03/2015 fim 07/05/2015\n",
      "total de dias 42 total de semanas 6\n",
      "\n",
      "Treino\n",
      "inicio 01/01/2013 fim 25/03/2015\n",
      "dias 813 semanas 116\n",
      "\n",
      "Validação\n",
      "inicio 26/03/2015 fim 07/05/2015\n",
      "dias 42 semanas 6\n",
      "//\n",
      "KFold Number 1\n",
      "\n",
      "Intervalo\n",
      "início 07/05/2015 fim 18/06/2015\n",
      "total de dias 42 total de semanas 6\n",
      "\n",
      "Treino\n",
      "inicio 01/01/2013 fim 06/05/2015\n",
      "dias 855 semanas 122\n",
      "\n",
      "Validação\n",
      "inicio 07/05/2015 fim 18/06/2015\n",
      "dias 42 semanas 6\n",
      "//\n",
      "Iteração 2 de 5\n",
      "{'n_estimators': 2500, 'eta': 0.07, 'max_depth': 9, 'subsample': 0.5, 'colsample_bytree': 0.3, 'min_child_weight': 8}\n",
      "KFold Number 5\n",
      "\n",
      "Intervalo\n",
      "início 20/11/2014 fim 01/01/2015\n",
      "total de dias 42 total de semanas 6\n",
      "\n",
      "Treino\n",
      "inicio 01/01/2013 fim 19/11/2014\n",
      "dias 687 semanas 98\n",
      "\n",
      "Validação\n",
      "inicio 20/11/2014 fim 01/01/2015\n",
      "dias 42 semanas 6\n",
      "//\n",
      "KFold Number 4\n",
      "\n",
      "Intervalo\n",
      "início 01/01/2015 fim 12/02/2015\n",
      "total de dias 42 total de semanas 6\n",
      "\n",
      "Treino\n",
      "inicio 01/01/2013 fim 31/12/2014\n",
      "dias 729 semanas 104\n",
      "\n",
      "Validação\n",
      "inicio 01/01/2015 fim 12/02/2015\n",
      "dias 42 semanas 6\n",
      "//\n",
      "KFold Number 3\n",
      "\n",
      "Intervalo\n",
      "início 12/02/2015 fim 26/03/2015\n",
      "total de dias 42 total de semanas 6\n",
      "\n",
      "Treino\n",
      "inicio 01/01/2013 fim 11/02/2015\n",
      "dias 771 semanas 110\n",
      "\n",
      "Validação\n",
      "inicio 12/02/2015 fim 26/03/2015\n",
      "dias 42 semanas 6\n",
      "//\n",
      "KFold Number 2\n",
      "\n",
      "Intervalo\n",
      "início 26/03/2015 fim 07/05/2015\n",
      "total de dias 42 total de semanas 6\n",
      "\n",
      "Treino\n",
      "inicio 01/01/2013 fim 25/03/2015\n",
      "dias 813 semanas 116\n",
      "\n",
      "Validação\n",
      "inicio 26/03/2015 fim 07/05/2015\n",
      "dias 42 semanas 6\n",
      "//\n",
      "KFold Number 1\n",
      "\n",
      "Intervalo\n",
      "início 07/05/2015 fim 18/06/2015\n",
      "total de dias 42 total de semanas 6\n",
      "\n",
      "Treino\n",
      "inicio 01/01/2013 fim 06/05/2015\n",
      "dias 855 semanas 122\n",
      "\n",
      "Validação\n",
      "inicio 07/05/2015 fim 18/06/2015\n",
      "dias 42 semanas 6\n",
      "//\n",
      "Iteração 3 de 5\n",
      "{'n_estimators': 2500, 'eta': 0.01, 'max_depth': 9, 'subsample': 0.5, 'colsample_bytree': 0.7, 'min_child_weight': 3}\n",
      "KFold Number 5\n",
      "\n",
      "Intervalo\n",
      "início 20/11/2014 fim 01/01/2015\n",
      "total de dias 42 total de semanas 6\n",
      "\n",
      "Treino\n",
      "inicio 01/01/2013 fim 19/11/2014\n",
      "dias 687 semanas 98\n",
      "\n",
      "Validação\n",
      "inicio 20/11/2014 fim 01/01/2015\n",
      "dias 42 semanas 6\n",
      "//\n",
      "KFold Number 4\n",
      "\n",
      "Intervalo\n",
      "início 01/01/2015 fim 12/02/2015\n",
      "total de dias 42 total de semanas 6\n",
      "\n",
      "Treino\n",
      "inicio 01/01/2013 fim 31/12/2014\n",
      "dias 729 semanas 104\n",
      "\n",
      "Validação\n",
      "inicio 01/01/2015 fim 12/02/2015\n",
      "dias 42 semanas 6\n",
      "//\n",
      "KFold Number 3\n",
      "\n",
      "Intervalo\n",
      "início 12/02/2015 fim 26/03/2015\n",
      "total de dias 42 total de semanas 6\n",
      "\n",
      "Treino\n",
      "inicio 01/01/2013 fim 11/02/2015\n",
      "dias 771 semanas 110\n",
      "\n",
      "Validação\n",
      "inicio 12/02/2015 fim 26/03/2015\n",
      "dias 42 semanas 6\n",
      "//\n",
      "KFold Number 2\n",
      "\n",
      "Intervalo\n",
      "início 26/03/2015 fim 07/05/2015\n",
      "total de dias 42 total de semanas 6\n",
      "\n",
      "Treino\n",
      "inicio 01/01/2013 fim 25/03/2015\n",
      "dias 813 semanas 116\n",
      "\n",
      "Validação\n",
      "inicio 26/03/2015 fim 07/05/2015\n",
      "dias 42 semanas 6\n",
      "//\n",
      "KFold Number 1\n",
      "\n",
      "Intervalo\n",
      "início 07/05/2015 fim 18/06/2015\n",
      "total de dias 42 total de semanas 6\n",
      "\n",
      "Treino\n",
      "inicio 01/01/2013 fim 06/05/2015\n",
      "dias 855 semanas 122\n",
      "\n",
      "Validação\n",
      "inicio 07/05/2015 fim 18/06/2015\n",
      "dias 42 semanas 6\n",
      "//\n",
      "Iteração 4 de 5\n",
      "{'n_estimators': 1500, 'eta': 0.01, 'max_depth': 5, 'subsample': 0.7, 'colsample_bytree': 0.3, 'min_child_weight': 15}\n",
      "KFold Number 5\n",
      "\n",
      "Intervalo\n",
      "início 20/11/2014 fim 01/01/2015\n",
      "total de dias 42 total de semanas 6\n",
      "\n",
      "Treino\n",
      "inicio 01/01/2013 fim 19/11/2014\n",
      "dias 687 semanas 98\n",
      "\n",
      "Validação\n",
      "inicio 20/11/2014 fim 01/01/2015\n",
      "dias 42 semanas 6\n",
      "//\n",
      "KFold Number 4\n",
      "\n",
      "Intervalo\n",
      "início 01/01/2015 fim 12/02/2015\n",
      "total de dias 42 total de semanas 6\n",
      "\n",
      "Treino\n",
      "inicio 01/01/2013 fim 31/12/2014\n",
      "dias 729 semanas 104\n",
      "\n",
      "Validação\n",
      "inicio 01/01/2015 fim 12/02/2015\n",
      "dias 42 semanas 6\n",
      "//\n",
      "KFold Number 3\n",
      "\n",
      "Intervalo\n",
      "início 12/02/2015 fim 26/03/2015\n",
      "total de dias 42 total de semanas 6\n",
      "\n",
      "Treino\n",
      "inicio 01/01/2013 fim 11/02/2015\n",
      "dias 771 semanas 110\n",
      "\n",
      "Validação\n",
      "inicio 12/02/2015 fim 26/03/2015\n",
      "dias 42 semanas 6\n",
      "//\n",
      "KFold Number 2\n",
      "\n",
      "Intervalo\n",
      "início 26/03/2015 fim 07/05/2015\n",
      "total de dias 42 total de semanas 6\n",
      "\n",
      "Treino\n",
      "inicio 01/01/2013 fim 25/03/2015\n",
      "dias 813 semanas 116\n",
      "\n",
      "Validação\n",
      "inicio 26/03/2015 fim 07/05/2015\n",
      "dias 42 semanas 6\n",
      "//\n",
      "KFold Number 1\n",
      "\n",
      "Intervalo\n",
      "início 07/05/2015 fim 18/06/2015\n",
      "total de dias 42 total de semanas 6\n",
      "\n",
      "Treino\n",
      "inicio 01/01/2013 fim 06/05/2015\n",
      "dias 855 semanas 122\n",
      "\n",
      "Validação\n",
      "inicio 07/05/2015 fim 18/06/2015\n",
      "dias 42 semanas 6\n",
      "//\n",
      "Iteração 5 de 5\n",
      "{'n_estimators': 2500, 'eta': 0.1, 'max_depth': 3, 'subsample': 0.5, 'colsample_bytree': 0.9, 'min_child_weight': 15}\n",
      "KFold Number 5\n",
      "\n",
      "Intervalo\n",
      "início 20/11/2014 fim 01/01/2015\n",
      "total de dias 42 total de semanas 6\n",
      "\n",
      "Treino\n",
      "inicio 01/01/2013 fim 19/11/2014\n",
      "dias 687 semanas 98\n",
      "\n",
      "Validação\n",
      "inicio 20/11/2014 fim 01/01/2015\n",
      "dias 42 semanas 6\n",
      "//\n",
      "KFold Number 4\n",
      "\n",
      "Intervalo\n",
      "início 01/01/2015 fim 12/02/2015\n",
      "total de dias 42 total de semanas 6\n",
      "\n",
      "Treino\n",
      "inicio 01/01/2013 fim 31/12/2014\n",
      "dias 729 semanas 104\n",
      "\n",
      "Validação\n",
      "inicio 01/01/2015 fim 12/02/2015\n",
      "dias 42 semanas 6\n",
      "//\n",
      "KFold Number 3\n",
      "\n",
      "Intervalo\n",
      "início 12/02/2015 fim 26/03/2015\n",
      "total de dias 42 total de semanas 6\n",
      "\n",
      "Treino\n",
      "inicio 01/01/2013 fim 11/02/2015\n",
      "dias 771 semanas 110\n",
      "\n",
      "Validação\n",
      "inicio 12/02/2015 fim 26/03/2015\n",
      "dias 42 semanas 6\n",
      "//\n",
      "KFold Number 2\n",
      "\n",
      "Intervalo\n",
      "início 26/03/2015 fim 07/05/2015\n",
      "total de dias 42 total de semanas 6\n",
      "\n",
      "Treino\n",
      "inicio 01/01/2013 fim 25/03/2015\n",
      "dias 813 semanas 116\n",
      "\n",
      "Validação\n",
      "inicio 26/03/2015 fim 07/05/2015\n",
      "dias 42 semanas 6\n",
      "//\n",
      "KFold Number 1\n",
      "\n",
      "Intervalo\n",
      "início 07/05/2015 fim 18/06/2015\n",
      "total de dias 42 total de semanas 6\n",
      "\n",
      "Treino\n",
      "inicio 01/01/2013 fim 06/05/2015\n",
      "dias 855 semanas 122\n",
      "\n",
      "Validação\n",
      "inicio 07/05/2015 fim 18/06/2015\n",
      "dias 42 semanas 6\n",
      "//\n"
     ]
    }
   ],
   "source": [
    "param = {\n",
    "   'n_estimators': [1500, 1700, 2500, 3000, 3500],\n",
    "   'eta': [0.01, 0.03, 0.05, 0.07, 0.1],\n",
    "   'max_depth': [3, 5, 9],\n",
    "   'subsample': [0.1, 0.5, 0.7],\n",
    "   'colsample_bytree': [0.3, 0.7, 0.9],\n",
    "   'min_child_weight': [3, 8, 15]\n",
    "}\n",
    "\n",
    "max_eval = 5\n",
    "\n",
    "final_result = pd.DataFrame()\n",
    "\n",
    "for i in range(max_eval):\n",
    "    hp = {k: random.sample(v, 1)[0] for k, v in param.items()}\n",
    "    # param.items(): retorna chave e valor de um dicionário\n",
    "    # random.sample(v, 1)[0]: pega um (1) valor (v) aleatoriamente da amostra\n",
    "    # random.sample(v, 1)[0] for k, v in param.items(): valor da chave 'k'\n",
    "    print('Iteração', i+1, 'de', max_eval)\n",
    "    print(hp)\n",
    "\n",
    "    xgb_model = xgb.XGBRegressor(\n",
    "        objective='reg:squarederror',\n",
    "        n_estimators=hp['n_estimators'], \n",
    "        eta=hp['eta'], \n",
    "        max_depth=hp['max_depth'], \n",
    "        subsample=hp['subsample'],\n",
    "        colsample_bytree=hp['colsample_bytree'],\n",
    "        min_child_weight=hp['min_child_weight']\n",
    "    )\n",
    "\n",
    "    result = cross_validation(\n",
    "        x_training, \n",
    "        5, \n",
    "        'XGBoost Regressor', \n",
    "        xgb_model, \n",
    "        verbose = True\n",
    "    )\n",
    "    final_result = pd.concat([final_result, result])\n"
   ]
  },
  {
   "cell_type": "code",
   "execution_count": 27,
   "metadata": {},
   "outputs": [
    {
     "data": {
      "text/html": [
       "<div>\n",
       "<style scoped>\n",
       "    .dataframe tbody tr th:only-of-type {\n",
       "        vertical-align: middle;\n",
       "    }\n",
       "\n",
       "    .dataframe tbody tr th {\n",
       "        vertical-align: top;\n",
       "    }\n",
       "\n",
       "    .dataframe thead th {\n",
       "        text-align: right;\n",
       "    }\n",
       "</style>\n",
       "<table border=\"1\" class=\"dataframe\">\n",
       "  <thead>\n",
       "    <tr style=\"text-align: right;\">\n",
       "      <th></th>\n",
       "      <th>Model Name</th>\n",
       "      <th>MAE</th>\n",
       "      <th>MAPE</th>\n",
       "      <th>RMSE</th>\n",
       "    </tr>\n",
       "  </thead>\n",
       "  <tbody>\n",
       "    <tr>\n",
       "      <th>0</th>\n",
       "      <td>XGBoost Regressor</td>\n",
       "      <td>931.13 +/- 127.92</td>\n",
       "      <td>0.13 +/- 0.01</td>\n",
       "      <td>1332.31 +/- 186.59</td>\n",
       "    </tr>\n",
       "    <tr>\n",
       "      <th>0</th>\n",
       "      <td>XGBoost Regressor</td>\n",
       "      <td>856.61 +/- 116.0</td>\n",
       "      <td>0.12 +/- 0.01</td>\n",
       "      <td>1240.22 +/- 186.1</td>\n",
       "    </tr>\n",
       "    <tr>\n",
       "      <th>0</th>\n",
       "      <td>XGBoost Regressor</td>\n",
       "      <td>839.85 +/- 140.84</td>\n",
       "      <td>0.12 +/- 0.01</td>\n",
       "      <td>1214.87 +/- 206.61</td>\n",
       "    </tr>\n",
       "    <tr>\n",
       "      <th>0</th>\n",
       "      <td>XGBoost Regressor</td>\n",
       "      <td>1559.5 +/- 163.74</td>\n",
       "      <td>0.22 +/- 0.01</td>\n",
       "      <td>2258.57 +/- 226.1</td>\n",
       "    </tr>\n",
       "    <tr>\n",
       "      <th>0</th>\n",
       "      <td>XGBoost Regressor</td>\n",
       "      <td>1095.47 +/- 137.16</td>\n",
       "      <td>0.15 +/- 0.01</td>\n",
       "      <td>1567.79 +/- 184.37</td>\n",
       "    </tr>\n",
       "  </tbody>\n",
       "</table>\n",
       "</div>"
      ],
      "text/plain": [
       "          Model Name                 MAE           MAPE                RMSE\n",
       "0  XGBoost Regressor   931.13 +/- 127.92  0.13 +/- 0.01  1332.31 +/- 186.59\n",
       "0  XGBoost Regressor    856.61 +/- 116.0  0.12 +/- 0.01   1240.22 +/- 186.1\n",
       "0  XGBoost Regressor   839.85 +/- 140.84  0.12 +/- 0.01  1214.87 +/- 206.61\n",
       "0  XGBoost Regressor   1559.5 +/- 163.74  0.22 +/- 0.01   2258.57 +/- 226.1\n",
       "0  XGBoost Regressor  1095.47 +/- 137.16  0.15 +/- 0.01  1567.79 +/- 184.37"
      ]
     },
     "execution_count": 27,
     "metadata": {},
     "output_type": "execute_result"
    }
   ],
   "source": [
    "final_result"
   ]
  },
  {
   "cell_type": "markdown",
   "metadata": {},
   "source": [
    "### Generalização"
   ]
  },
  {
   "cell_type": "code",
   "execution_count": 28,
   "metadata": {},
   "outputs": [
    {
     "name": "stdout",
     "output_type": "stream",
     "text": [
      "KFold Number 5\n",
      "\n",
      "Intervalo\n",
      "início 20/11/2014 fim 01/01/2015\n",
      "total de dias 42 total de semanas 6\n",
      "\n",
      "Treino\n",
      "inicio 01/01/2013 fim 19/11/2014\n",
      "dias 687 semanas 98\n",
      "\n",
      "Validação\n",
      "inicio 20/11/2014 fim 01/01/2015\n",
      "dias 42 semanas 6\n",
      "//\n",
      "KFold Number 4\n",
      "\n",
      "Intervalo\n",
      "início 01/01/2015 fim 12/02/2015\n",
      "total de dias 42 total de semanas 6\n",
      "\n",
      "Treino\n",
      "inicio 01/01/2013 fim 31/12/2014\n",
      "dias 729 semanas 104\n",
      "\n",
      "Validação\n",
      "inicio 01/01/2015 fim 12/02/2015\n",
      "dias 42 semanas 6\n",
      "//\n",
      "KFold Number 3\n",
      "\n",
      "Intervalo\n",
      "início 12/02/2015 fim 26/03/2015\n",
      "total de dias 42 total de semanas 6\n",
      "\n",
      "Treino\n",
      "inicio 01/01/2013 fim 11/02/2015\n",
      "dias 771 semanas 110\n",
      "\n",
      "Validação\n",
      "inicio 12/02/2015 fim 26/03/2015\n",
      "dias 42 semanas 6\n",
      "//\n",
      "KFold Number 2\n",
      "\n",
      "Intervalo\n",
      "início 26/03/2015 fim 07/05/2015\n",
      "total de dias 42 total de semanas 6\n",
      "\n",
      "Treino\n",
      "inicio 01/01/2013 fim 25/03/2015\n",
      "dias 813 semanas 116\n",
      "\n",
      "Validação\n",
      "inicio 26/03/2015 fim 07/05/2015\n",
      "dias 42 semanas 6\n",
      "//\n",
      "KFold Number 1\n",
      "\n",
      "Intervalo\n",
      "início 07/05/2015 fim 18/06/2015\n",
      "total de dias 42 total de semanas 6\n",
      "\n",
      "Treino\n",
      "inicio 01/01/2013 fim 06/05/2015\n",
      "dias 855 semanas 122\n",
      "\n",
      "Validação\n",
      "inicio 07/05/2015 fim 18/06/2015\n",
      "dias 42 semanas 6\n",
      "//\n"
     ]
    }
   ],
   "source": [
    "# Modelo com os melhores parâmetros obtidos na tunagem\n",
    "xgb_final = xgb.XGBRegressor(\n",
    "    objective = 'reg:squarederror',\n",
    "    n_estimators = 2500,\n",
    "    eta = 0.01,\n",
    "    max_depth = 9,\n",
    "    subsample = 0.5,\n",
    "    colsample_bytree = 0.7,\n",
    "    min_child_weight = 3,\n",
    "    nthread = -1\n",
    ")\n",
    "\n",
    "# Cross-validation (predição sobre validação após a tunagem)\n",
    "xgb_result_cv = cross_validation(\n",
    "    x_training, \n",
    "    5, \n",
    "    'XGBoost Regressor', \n",
    "    xgb_final, \n",
    "    verbose = True\n",
    ")"
   ]
  },
  {
   "cell_type": "code",
   "execution_count": 29,
   "metadata": {},
   "outputs": [
    {
     "data": {
      "text/html": [
       "<div>\n",
       "<style scoped>\n",
       "    .dataframe tbody tr th:only-of-type {\n",
       "        vertical-align: middle;\n",
       "    }\n",
       "\n",
       "    .dataframe tbody tr th {\n",
       "        vertical-align: top;\n",
       "    }\n",
       "\n",
       "    .dataframe thead th {\n",
       "        text-align: right;\n",
       "    }\n",
       "</style>\n",
       "<table border=\"1\" class=\"dataframe\">\n",
       "  <thead>\n",
       "    <tr style=\"text-align: right;\">\n",
       "      <th></th>\n",
       "      <th>Model Name</th>\n",
       "      <th>MAE</th>\n",
       "      <th>MAPE</th>\n",
       "      <th>RMSE</th>\n",
       "    </tr>\n",
       "  </thead>\n",
       "  <tbody>\n",
       "    <tr>\n",
       "      <th>0</th>\n",
       "      <td>XGBoost Regressor</td>\n",
       "      <td>839.85 +/- 140.84</td>\n",
       "      <td>0.12 +/- 0.01</td>\n",
       "      <td>1214.87 +/- 206.61</td>\n",
       "    </tr>\n",
       "  </tbody>\n",
       "</table>\n",
       "</div>"
      ],
      "text/plain": [
       "          Model Name                MAE           MAPE                RMSE\n",
       "0  XGBoost Regressor  839.85 +/- 140.84  0.12 +/- 0.01  1214.87 +/- 206.61"
      ]
     },
     "execution_count": 29,
     "metadata": {},
     "output_type": "execute_result"
    }
   ],
   "source": [
    "xgb_result_cv"
   ]
  },
  {
   "cell_type": "code",
   "execution_count": 30,
   "metadata": {},
   "outputs": [],
   "source": [
    "# Retreino do modelo com dados de Treino + Validação\n",
    "xgb_final.fit(x_train, y_train)\n",
    "\n",
    "# Predição sobre os dados de Teste\n",
    "yhat_test = xgb_final.predict(x_test)\n",
    "\n",
    "# Performance final do modelo\n",
    "error_xgb_final = ml_error(\n",
    "    'XGBoost Regressor Final', \n",
    "    np.expm1(y_test), \n",
    "    np.expm1(yhat_test)\n",
    ")"
   ]
  },
  {
   "cell_type": "code",
   "execution_count": 31,
   "metadata": {},
   "outputs": [
    {
     "data": {
      "text/html": [
       "<div>\n",
       "<style scoped>\n",
       "    .dataframe tbody tr th:only-of-type {\n",
       "        vertical-align: middle;\n",
       "    }\n",
       "\n",
       "    .dataframe tbody tr th {\n",
       "        vertical-align: top;\n",
       "    }\n",
       "\n",
       "    .dataframe thead th {\n",
       "        text-align: right;\n",
       "    }\n",
       "</style>\n",
       "<table border=\"1\" class=\"dataframe\">\n",
       "  <thead>\n",
       "    <tr style=\"text-align: right;\">\n",
       "      <th></th>\n",
       "      <th>Model Name</th>\n",
       "      <th>MAE</th>\n",
       "      <th>MAPE</th>\n",
       "      <th>RMSE</th>\n",
       "    </tr>\n",
       "  </thead>\n",
       "  <tbody>\n",
       "    <tr>\n",
       "      <th>0</th>\n",
       "      <td>XGBoost Regressor Final</td>\n",
       "      <td>679.32548</td>\n",
       "      <td>0.099162</td>\n",
       "      <td>995.731145</td>\n",
       "    </tr>\n",
       "  </tbody>\n",
       "</table>\n",
       "</div>"
      ],
      "text/plain": [
       "                Model Name        MAE      MAPE        RMSE\n",
       "0  XGBoost Regressor Final  679.32548  0.099162  995.731145"
      ]
     },
     "execution_count": 31,
     "metadata": {},
     "output_type": "execute_result"
    }
   ],
   "source": [
    "error_xgb_final"
   ]
  },
  {
   "cell_type": "markdown",
   "metadata": {},
   "source": [
    "# TRADUÇÃO DO ERRO"
   ]
  },
  {
   "cell_type": "markdown",
   "metadata": {},
   "source": [
    "## Performance de Negócio"
   ]
  },
  {
   "cell_type": "code",
   "execution_count": 32,
   "metadata": {},
   "outputs": [],
   "source": [
    "# Selecionando os dados\n",
    "df = X_test.loc[:, features_selected_droped].copy()\n",
    "df.loc[:, 'Sales'] = y_test.copy()\n",
    "\n",
    "# Removendo a escala logaritmica da variável resposta\n",
    "df['Vendas'] = np.expm1(df['Sales'])\n",
    "df['Previsoes'] = np.expm1(yhat_test)\n",
    "\n",
    "# Soma das previsões\n",
    "df1 = df[['Store', 'Previsoes']].groupby('Store').sum().reset_index()\n",
    "\n",
    "# MAE e MAPE\n",
    "df_aux1 = (\n",
    "    df[['Store', 'Vendas', 'Previsoes']]\n",
    "    .groupby('Store')\n",
    "    .apply(\n",
    "        lambda x: mean_absolute_error(x['Vendas'], x['Previsoes']), \n",
    "        include_groups=False\n",
    "        )\n",
    "    .reset_index()\n",
    "    .rename(columns={0:'MAE'})\n",
    ")\n",
    "\n",
    "df_aux2 = (\n",
    "    df[['Store', 'Vendas', 'Previsoes']]\n",
    "    .groupby('Store')\n",
    "    .apply(\n",
    "        lambda x: mean_absolute_percentage_error(x['Vendas'], x['Previsoes']), \n",
    "        include_groups=False\n",
    "    )\n",
    "    .reset_index()\n",
    "    .rename(columns={0:'MAPE'})\n",
    ")\n",
    "\n",
    "# Mesclando MAE e MAPE\n",
    "df_aux3 = pd.merge(df_aux1, df_aux2, how='inner', on='Store')\n",
    "df2 = pd.merge(df1, df_aux3, how='inner', on='Store')\n",
    "\n",
    "# Cenários\n",
    "df2['PiorCenario'] = df2['Previsoes'] - df2['MAE']\n",
    "df2['MelhorCenario'] = df2['Previsoes'] + df2['MAE']\n",
    "\n",
    "# Mostrando as lojas com as piores predições\n",
    "df2 = df2[['Store', 'Previsoes', 'PiorCenario', 'MelhorCenario', 'MAE', 'MAPE']]"
   ]
  },
  {
   "cell_type": "markdown",
   "metadata": {},
   "source": [
    "### Top 5 Previsões com os maiores erros"
   ]
  },
  {
   "cell_type": "code",
   "execution_count": 33,
   "metadata": {},
   "outputs": [
    {
     "data": {
      "text/html": [
       "<div>\n",
       "<style scoped>\n",
       "    .dataframe tbody tr th:only-of-type {\n",
       "        vertical-align: middle;\n",
       "    }\n",
       "\n",
       "    .dataframe tbody tr th {\n",
       "        vertical-align: top;\n",
       "    }\n",
       "\n",
       "    .dataframe thead th {\n",
       "        text-align: right;\n",
       "    }\n",
       "</style>\n",
       "<table border=\"1\" class=\"dataframe\">\n",
       "  <thead>\n",
       "    <tr style=\"text-align: right;\">\n",
       "      <th></th>\n",
       "      <th>Store</th>\n",
       "      <th>Previsoes</th>\n",
       "      <th>PiorCenario</th>\n",
       "      <th>MelhorCenario</th>\n",
       "      <th>MAE</th>\n",
       "      <th>MAPE</th>\n",
       "    </tr>\n",
       "  </thead>\n",
       "  <tbody>\n",
       "    <tr>\n",
       "      <th>291</th>\n",
       "      <td>292</td>\n",
       "      <td>105539.851562</td>\n",
       "      <td>102148.831774</td>\n",
       "      <td>108930.871351</td>\n",
       "      <td>3391.019788</td>\n",
       "      <td>0.576161</td>\n",
       "    </tr>\n",
       "    <tr>\n",
       "      <th>908</th>\n",
       "      <td>909</td>\n",
       "      <td>229768.812500</td>\n",
       "      <td>222087.553265</td>\n",
       "      <td>237450.071735</td>\n",
       "      <td>7681.259235</td>\n",
       "      <td>0.512464</td>\n",
       "    </tr>\n",
       "    <tr>\n",
       "      <th>594</th>\n",
       "      <td>595</td>\n",
       "      <td>359555.875000</td>\n",
       "      <td>354970.547152</td>\n",
       "      <td>364141.202848</td>\n",
       "      <td>4585.327848</td>\n",
       "      <td>0.313050</td>\n",
       "    </tr>\n",
       "    <tr>\n",
       "      <th>875</th>\n",
       "      <td>876</td>\n",
       "      <td>199786.468750</td>\n",
       "      <td>195720.583592</td>\n",
       "      <td>203852.353908</td>\n",
       "      <td>4065.885158</td>\n",
       "      <td>0.309486</td>\n",
       "    </tr>\n",
       "    <tr>\n",
       "      <th>285</th>\n",
       "      <td>286</td>\n",
       "      <td>163002.031250</td>\n",
       "      <td>162266.337079</td>\n",
       "      <td>163737.725421</td>\n",
       "      <td>735.694171</td>\n",
       "      <td>0.264862</td>\n",
       "    </tr>\n",
       "  </tbody>\n",
       "</table>\n",
       "</div>"
      ],
      "text/plain": [
       "     Store      Previsoes    PiorCenario  MelhorCenario          MAE      MAPE\n",
       "291    292  105539.851562  102148.831774  108930.871351  3391.019788  0.576161\n",
       "908    909  229768.812500  222087.553265  237450.071735  7681.259235  0.512464\n",
       "594    595  359555.875000  354970.547152  364141.202848  4585.327848  0.313050\n",
       "875    876  199786.468750  195720.583592  203852.353908  4065.885158  0.309486\n",
       "285    286  163002.031250  162266.337079  163737.725421   735.694171  0.264862"
      ]
     },
     "execution_count": 33,
     "metadata": {},
     "output_type": "execute_result"
    }
   ],
   "source": [
    "df2.sort_values('MAPE', ascending = False).head()"
   ]
  },
  {
   "cell_type": "markdown",
   "metadata": {},
   "source": [
    "### Top 5 Previsões com os menores erros"
   ]
  },
  {
   "cell_type": "code",
   "execution_count": 34,
   "metadata": {},
   "outputs": [
    {
     "data": {
      "text/html": [
       "<div>\n",
       "<style scoped>\n",
       "    .dataframe tbody tr th:only-of-type {\n",
       "        vertical-align: middle;\n",
       "    }\n",
       "\n",
       "    .dataframe tbody tr th {\n",
       "        vertical-align: top;\n",
       "    }\n",
       "\n",
       "    .dataframe thead th {\n",
       "        text-align: right;\n",
       "    }\n",
       "</style>\n",
       "<table border=\"1\" class=\"dataframe\">\n",
       "  <thead>\n",
       "    <tr style=\"text-align: right;\">\n",
       "      <th></th>\n",
       "      <th>Store</th>\n",
       "      <th>Previsoes</th>\n",
       "      <th>PiorCenario</th>\n",
       "      <th>MelhorCenario</th>\n",
       "      <th>MAE</th>\n",
       "      <th>MAPE</th>\n",
       "    </tr>\n",
       "  </thead>\n",
       "  <tbody>\n",
       "    <tr>\n",
       "      <th>1088</th>\n",
       "      <td>1089</td>\n",
       "      <td>379835.031250</td>\n",
       "      <td>379385.993072</td>\n",
       "      <td>380284.069428</td>\n",
       "      <td>449.038178</td>\n",
       "      <td>0.041702</td>\n",
       "    </tr>\n",
       "    <tr>\n",
       "      <th>258</th>\n",
       "      <td>259</td>\n",
       "      <td>541936.187500</td>\n",
       "      <td>541397.151344</td>\n",
       "      <td>542475.223656</td>\n",
       "      <td>539.036156</td>\n",
       "      <td>0.041767</td>\n",
       "    </tr>\n",
       "    <tr>\n",
       "      <th>989</th>\n",
       "      <td>990</td>\n",
       "      <td>237307.703125</td>\n",
       "      <td>236997.139345</td>\n",
       "      <td>237618.266905</td>\n",
       "      <td>310.563780</td>\n",
       "      <td>0.049862</td>\n",
       "    </tr>\n",
       "    <tr>\n",
       "      <th>322</th>\n",
       "      <td>323</td>\n",
       "      <td>279533.250000</td>\n",
       "      <td>279110.416570</td>\n",
       "      <td>279956.083430</td>\n",
       "      <td>422.833430</td>\n",
       "      <td>0.055237</td>\n",
       "    </tr>\n",
       "    <tr>\n",
       "      <th>741</th>\n",
       "      <td>742</td>\n",
       "      <td>295351.000000</td>\n",
       "      <td>294886.539062</td>\n",
       "      <td>295815.460938</td>\n",
       "      <td>464.460937</td>\n",
       "      <td>0.056354</td>\n",
       "    </tr>\n",
       "  </tbody>\n",
       "</table>\n",
       "</div>"
      ],
      "text/plain": [
       "      Store      Previsoes    PiorCenario  MelhorCenario         MAE      MAPE\n",
       "1088   1089  379835.031250  379385.993072  380284.069428  449.038178  0.041702\n",
       "258     259  541936.187500  541397.151344  542475.223656  539.036156  0.041767\n",
       "989     990  237307.703125  236997.139345  237618.266905  310.563780  0.049862\n",
       "322     323  279533.250000  279110.416570  279956.083430  422.833430  0.055237\n",
       "741     742  295351.000000  294886.539062  295815.460938  464.460937  0.056354"
      ]
     },
     "execution_count": 34,
     "metadata": {},
     "output_type": "execute_result"
    }
   ],
   "source": [
    "df2.sort_values('MAPE', ascending = True).head()"
   ]
  },
  {
   "cell_type": "markdown",
   "metadata": {},
   "source": [
    "### Análise de Erros: MAPE por Loja"
   ]
  },
  {
   "cell_type": "code",
   "execution_count": 35,
   "metadata": {},
   "outputs": [
    {
     "data": {
      "text/plain": [
       "<Axes: xlabel='Store', ylabel='MAPE'>"
      ]
     },
     "execution_count": 35,
     "metadata": {},
     "output_type": "execute_result"
    },
    {
     "data": {
      "image/png": "[encoded data removed]",
      "text/plain": [
       "<Figure size 1800x1000 with 1 Axes>"
      ]
     },
     "metadata": {},
     "output_type": "display_data"
    }
   ],
   "source": [
    "# Mostrando o erro médio percentual das lojas\n",
    "plt.figure(figsize=(18, 10))\n",
    "sns.scatterplot(\n",
    "    x = 'Store', \n",
    "    y = 'MAPE', \n",
    "    data = df2\n",
    ")"
   ]
  },
  {
   "cell_type": "markdown",
   "metadata": {},
   "source": [
    "## Resultados Financeiros"
   ]
  },
  {
   "cell_type": "code",
   "execution_count": 36,
   "metadata": {},
   "outputs": [
    {
     "data": {
      "text/html": [
       "<div>\n",
       "<style scoped>\n",
       "    .dataframe tbody tr th:only-of-type {\n",
       "        vertical-align: middle;\n",
       "    }\n",
       "\n",
       "    .dataframe tbody tr th {\n",
       "        vertical-align: top;\n",
       "    }\n",
       "\n",
       "    .dataframe thead th {\n",
       "        text-align: right;\n",
       "    }\n",
       "</style>\n",
       "<table border=\"1\" class=\"dataframe\">\n",
       "  <thead>\n",
       "    <tr style=\"text-align: right;\">\n",
       "      <th></th>\n",
       "      <th>cenario</th>\n",
       "      <th>Valores</th>\n",
       "    </tr>\n",
       "  </thead>\n",
       "  <tbody>\n",
       "    <tr>\n",
       "      <th>0</th>\n",
       "      <td>Previsoes</td>\n",
       "      <td>R$283,763,968.00</td>\n",
       "    </tr>\n",
       "    <tr>\n",
       "      <th>1</th>\n",
       "      <td>PiorCenario</td>\n",
       "      <td>R$283,002,908.92</td>\n",
       "    </tr>\n",
       "    <tr>\n",
       "      <th>2</th>\n",
       "      <td>MelhorCenario</td>\n",
       "      <td>R$284,525,024.67</td>\n",
       "    </tr>\n",
       "  </tbody>\n",
       "</table>\n",
       "</div>"
      ],
      "text/plain": [
       "         cenario           Valores\n",
       "0      Previsoes  R$283,763,968.00\n",
       "1    PiorCenario  R$283,002,908.92\n",
       "2  MelhorCenario  R$284,525,024.67"
      ]
     },
     "execution_count": 36,
     "metadata": {},
     "output_type": "execute_result"
    }
   ],
   "source": [
    "# Mostrando a performance financeira geral do modelo (indica se a empresa consegue bater as metas totais de venda)\n",
    "df3 = (\n",
    "    df2[['Previsoes', 'PiorCenario', 'MelhorCenario']]\n",
    "    .apply(\n",
    "        lambda x: np.sum(x), \n",
    "        axis = 0\n",
    "    )\n",
    "    .reset_index()\n",
    "    .rename(columns={'index': 'cenario', 0:'Valores'})\n",
    ")\n",
    "df3['Valores'] = df3['Valores'].map('R${:,.2f}'.format)\n",
    "df3"
   ]
  },
  {
   "cell_type": "markdown",
   "metadata": {},
   "source": [
    "## Performance da Modelagem"
   ]
  },
  {
   "cell_type": "code",
   "execution_count": 37,
   "metadata": {},
   "outputs": [
    {
     "data": {
      "text/plain": [
       "<Axes: xlabel='Previsoes', ylabel='Erro'>"
      ]
     },
     "execution_count": 37,
     "metadata": {},
     "output_type": "execute_result"
    },
    {
     "data": {
      "image/png": "[encoded data removed]",
      "text/plain": [
       "<Figure size 2500x1200 with 4 Axes>"
      ]
     },
     "metadata": {},
     "output_type": "display_data"
    }
   ],
   "source": [
    "# Mostrando a performance da modelagem\n",
    "df['Erro'] = df['Vendas'] - df['Previsoes']\n",
    "df['TaxaErro'] = df['Previsoes']/df['Vendas']\n",
    "df.loc[:, 'Date'] = X_test['Date'].copy()\n",
    "\n",
    "# Gráfico de linha comparando as previsões com as Vendas reais ao longo do tempo\n",
    "plt.subplot(2, 2, 1)\n",
    "sns.lineplot(\n",
    "    x='Date', \n",
    "    y='Vendas', \n",
    "    data=df, \n",
    "    label='Vendas'\n",
    ")\n",
    "sns.lineplot(\n",
    "    x='Date', \n",
    "    y='Previsoes', \n",
    "    data=df, \n",
    "    label='Previsões'\n",
    ")\n",
    "\n",
    "# Taxa de Erro (quanto mais próximo de 1, menor o Erro)\n",
    "# Valores superiores a 1: valores superestimados \n",
    "# Valores inferiores a 1: valores subestimados\n",
    "plt.subplot(2, 2, 2)\n",
    "sns.lineplot(\n",
    "    x='Date', \n",
    "    y='TaxaErro', \n",
    "    data=df\n",
    ")\n",
    "plt.axhline(1, linestyle='--')\n",
    "\n",
    "# Distribuição do Erro (deve ser próxima a normal)\n",
    "plt.subplot(2, 2, 3)\n",
    "sns.histplot(\n",
    "    df['Erro'], \n",
    "    bins = 25, \n",
    "    kde = False\n",
    ")\n",
    "\n",
    "# Resíduos (deve ser próximo a um tubo imaginário)\n",
    "plt.subplot(2, 2, 4)\n",
    "sns.scatterplot(\n",
    "    x = 'Previsoes', \n",
    "    y = 'Erro', \n",
    "    data = df\n",
    ")"
   ]
  },
  {
   "cell_type": "markdown",
   "metadata": {},
   "source": [
    "## Armazenamento do Modelo"
   ]
  },
  {
   "cell_type": "code",
   "execution_count": null,
   "metadata": {},
   "outputs": [],
   "source": [
    "# Regressão Linear\n",
    "pkl.dump(\n",
    "    lr, \n",
    "    open(\n",
    "        '../model/modeling/c01_lr_model.pkl', \n",
    "        'wb'\n",
    "    )\n",
    ")"
   ]
  },
  {
   "cell_type": "code",
   "execution_count": null,
   "metadata": {},
   "outputs": [],
   "source": [
    "# Regressão Linear Lasso\n",
    "pkl.dump(\n",
    "    lrr, \n",
    "    open(\n",
    "        '../model/modeling/c01_lrlasso_model.pkl', \n",
    "        'wb'\n",
    "    )\n",
    ")"
   ]
  },
  {
   "cell_type": "code",
   "execution_count": null,
   "metadata": {},
   "outputs": [],
   "source": [
    "# Random Forest Regressor\n",
    "pkl.dump(\n",
    "    rf, \n",
    "    open(\n",
    "        '../model/modeling/c01_rf_model.pkl', \n",
    "        'wb'\n",
    "    )\n",
    ")"
   ]
  },
  {
   "cell_type": "code",
   "execution_count": null,
   "metadata": {},
   "outputs": [],
   "source": [
    "\n",
    "# XGBoost Regressor\n",
    "pkl.dump(\n",
    "    model_xgb, \n",
    "    open(\n",
    "        '../model/modeling/c01_xgb_model.pkl', \n",
    "        'wb'\n",
    "    )\n",
    ")"
   ]
  },
  {
   "cell_type": "code",
   "execution_count": null,
   "metadata": {},
   "outputs": [],
   "source": [
    "# XGBoost Regressor Final\n",
    "pkl.dump(\n",
    "    xgb_final, \n",
    "    open(\n",
    "        '../model/modeling/c01_xgb_final.pkl', \n",
    "        'wb'\n",
    "    )\n",
    ")"
   ]
  },
  {
   "cell_type": "markdown",
   "metadata": {},
   "source": [
    "# PRÓXIMOS PASSOS DO PROJETO"
   ]
  },
  {
   "cell_type": "markdown",
   "metadata": {},
   "source": [
    "> **Completar o Ano de 2015:** </br>Identificar e coletar os meses faltantes de 2015 para garantir a integridade temporal dos dados, evitando viés na modelagem.\n",
    "\n",
    "> **Engenharia de Features Avançada**</br>\n",
    "> Explorar a criação de novas variáveis, além de interações entre variáveis relevantes para capturar padrões complexos.\n",
    "\n",
    "> **Análise de Resultados do Modelo**</br>\n",
    "> Coletar, consolidar e analisar os resultados práticos do modelo, utilizando métricas como MAE, RMSE e análise de resíduos para identificar padrões de erro.\n",
    "\n",
    "> **Tratamento de Lojas com Alto Erro Percentual (>25%)**</br>\n",
    "> Investigar causas de alto erro em lojas específicas, avaliando abordagens como segmentação de modelos, ajuste de hiperparâmetros, ou inclusão de variáveis contextuais (ex: localização, perfil de clientes).\n",
    "\n",
    "> **Redução do Erro do Modelo**</br>\n",
    "> Testar algoritmos alternativos e tratamento de outliers.\n",
    "\n",
    "> **Monitoramento e Atualização Contínua**</br>\n",
    "> Estabelecer rotinas de monitoramento do desempenho do modelo em produção e definir critérios para re-treinamento periódico com novos dados.\n",
    "\n",
    "> **Documentação e Reprodutibilidade**</br>\n",
    "> Documentar todas as etapas do pipeline de dados e modelagem, garantindo reprodutibilidade e facilitando futuras manutenções."
   ]
  },
  {
   "cell_type": "markdown",
   "metadata": {},
   "source": []
  }
 ],
 "metadata": {
  "kernelspec": {
   "display_name": "previsao_vendas_rossmann",
   "language": "python",
   "name": "python3"
  },
  "language_info": {
   "codemirror_mode": {
    "name": "ipython",
    "version": 3
   },
   "file_extension": ".py",
   "mimetype": "text/x-python",
   "name": "python",
   "nbconvert_exporter": "python",
   "pygments_lexer": "ipython3",
   "version": "3.13.3"
  }
 },
 "nbformat": 4,
 "nbformat_minor": 2
}
