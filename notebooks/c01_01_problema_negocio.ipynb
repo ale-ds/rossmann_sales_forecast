{
 "cells": [
  {
   "cell_type": "markdown",
   "metadata": {},
   "source": [
    "# PROBLEMA DE NEGÓCIO"
   ]
  },
  {
   "cell_type": "markdown",
   "metadata": {},
   "source": [
    "## CONTEXTO"
   ]
  },
  {
   "cell_type": "markdown",
   "metadata": {},
   "source": [
    "A Rossmann possui mais de 3.000 farmácias distribuídas em 7 países da Europa. Atualmente, cabe aos gerentes de cada loja a responsabilidade de estimar as vendas diárias com uma antecedência de até seis semanas. Diversos fatores impactam o volume de vendas, como promoções, concorrentes, feriados estaduais e escolares, sazonalidade e localização. Como milhares de gerentes fazem suas próprias previsões considerando suas realidades específicas, a exatidão dessas estimativas pode variar significativamente.\n",
    "\n",
    "Mais informações em: [Keggle](https://www.kaggle.com/c/rossmann-store-sales/overview/description)"
   ]
  },
  {
   "cell_type": "markdown",
   "metadata": {},
   "source": [
    "## PROBLEMA"
   ]
  },
  {
   "cell_type": "markdown",
   "metadata": {},
   "source": [
    "Estimativa das vendas das lojas para as próximas seis semanas, com o objetivo de planejar a distribuição de recursos destinados à reforma dessas unidades."
   ]
  },
  {
   "cell_type": "markdown",
   "metadata": {},
   "source": [
    "## CAUSAS"
   ]
  },
  {
   "cell_type": "markdown",
   "metadata": {},
   "source": [
    "- As estimativas de vendas realizadas atualmente mostram grande diferença em relação aos resultados efetivos.\n",
    "- As projeções de vendas são feitas principalmente com base na vivência da equipe de negócios, de forma bastante empírica.\n",
    "- As previsões são elaboradas separadamente por cada loja, sem integração entre elas.\n",
    "- As análises de vendas são restritas aos computadores locais."
   ]
  },
  {
   "cell_type": "markdown",
   "metadata": {},
   "source": [
    "## SOLUÇÃO"
   ]
  },
  {
   "cell_type": "markdown",
   "metadata": {},
   "source": [
    "- Sistema de predição de vendas baseado em técnicas de Machine Learning.\n",
    "- Bot no Telegram que disponibiliza as estimativas de vendas para cada unidade."
   ]
  },
  {
   "cell_type": "markdown",
   "metadata": {},
   "source": [
    "## PREMISSAS DO NEGÓCIO\n",
    "- O CFO deve conseguir acessar as previsões remotamente, de qualquer localidade.\n",
    "- O CFO necessita de autonomia para avaliar cada situação individualmente.\n",
    "- Os dias em que as lojas permaneceram fechadas não serão incluídos nas previsões.\n",
    "- Apenas as lojas que apresentaram vendas maiores que zero nos dados históricos serão consideradas nas previsões.\n"
   ]
  }
 ],
 "metadata": {
  "kernelspec": {
   "display_name": "previsao_vendas_rossmann",
   "language": "python",
   "name": "python3"
  },
  "language_info": {
   "codemirror_mode": {
    "name": "ipython",
    "version": 3
   },
   "file_extension": ".py",
   "mimetype": "text/x-python",
   "name": "python",
   "nbconvert_exporter": "python",
   "pygments_lexer": "ipython3",
   "version": "3.13.3"
  }
 },
 "nbformat": 4,
 "nbformat_minor": 2
}
