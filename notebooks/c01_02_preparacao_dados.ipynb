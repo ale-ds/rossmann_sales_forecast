{
 "cells": [
  {
   "cell_type": "markdown",
   "metadata": {},
   "source": [
    "# IMPORTS E CONFIGURAÇÕES"
   ]
  },
  {
   "cell_type": "markdown",
   "metadata": {},
   "source": [
    "  ## Imports"
   ]
  },
  {
   "cell_type": "code",
   "execution_count": null,
   "metadata": {},
   "outputs": [],
   "source": [
    "import sys\n",
    "import datetime\n",
    "import pandas as pd\n",
    "import numpy as np\n",
    "import pickle as pkl"
   ]
  },
  {
   "cell_type": "markdown",
   "metadata": {},
   "source": [
    "## Configurações"
   ]
  },
  {
   "cell_type": "code",
   "execution_count": null,
   "metadata": {},
   "outputs": [],
   "source": [
    "# plt.rcParams['figure.figsize'] = (20, 16)\n",
    "pd.set_option('display.max_columns', None)"
   ]
  },
  {
   "cell_type": "markdown",
   "metadata": {},
   "source": [
    "# CARREGAMENTO DOS DADOS"
   ]
  },
  {
   "cell_type": "markdown",
   "metadata": {},
   "source": [
    "## Carregar"
   ]
  },
  {
   "cell_type": "code",
   "execution_count": null,
   "metadata": {},
   "outputs": [],
   "source": [
    "# LOAD DATA\n",
    "df_sales = pd.read_csv('../data/raw/train.csv', low_memory=False)\n",
    "df_store = pd.read_csv('../data/raw/store.csv', low_memory=False)"
   ]
  },
  {
   "cell_type": "markdown",
   "metadata": {},
   "source": [
    "## Mesclar"
   ]
  },
  {
   "cell_type": "code",
   "execution_count": null,
   "metadata": {},
   "outputs": [],
   "source": [
    "# MERGE DATA\n",
    "df_raw = pd.merge(\n",
    "    df_sales, \n",
    "    df_store, \n",
    "    on='Store', \n",
    "    how='left'\n",
    ")"
   ]
  },
  {
   "cell_type": "markdown",
   "metadata": {},
   "source": [
    "## Filtrar"
   ]
  },
  {
   "cell_type": "code",
   "execution_count": null,
   "metadata": {},
   "outputs": [],
   "source": [
    "# Considera apenas as lojas que estão abertas e que possuem vendas.\n",
    "df1 = (\n",
    "    df_raw[\n",
    "        (df_raw['Open'] == 1) & \n",
    "        (df_raw['Sales'] > 0)\n",
    "    ].copy()\n",
    ")"
   ]
  },
  {
   "cell_type": "markdown",
   "metadata": {},
   "source": [
    "# PREPARAÇÃO DOS DADOS"
   ]
  },
  {
   "cell_type": "markdown",
   "metadata": {},
   "source": [
    "## Entendimento dos Dados"
   ]
  },
  {
   "cell_type": "markdown",
   "metadata": {},
   "source": [
    "### Descrição das Features\n",
    "\n",
    "| Proprieade | Descrição |\n",
    "| ---: | :-- |\n",
    "| **Id** | um Id que representa um duple (Loja, Data) dentro do conjunto de teste |\n",
    "| **Store** | um ID exclusivo para cada loja |\n",
    "| **Sales** | o faturamento de um determinado dia (é isso que você está prevendo) |\n",
    "| **Customers** | o número de clientes em um determinado dia |\n",
    "| **Open** | um indicador para saber se a loja estava aberta: <br><br>0 = fechada, <br>1 = aberta |\n",
    "| **StateHoliday** | indica feriado estadual. Normalmente todas as lojas, com poucas exceções, <br>fecham nos feriados estaduais. Observe que todas as escolas estão fechadas nos <br>feriados e fins de semana. <br><br>a = feriado público, <br>b = feriado de Páscoa, <br>c = Natal, <br>0 = Nenhum |\n",
    "| **SchoolHoliday** | indica se a (Loja, Data) foi afetada pelo fechamento de escolas públicas |\n",
    "| **StoreType** | 4 modelos de loja diferentes: <br><br>a, b, c, d |\n",
    "| **Assortment** | descreve um nível de sortimento: <br><br>a = básico, <br>b = extra, <br>c = estendido |\n",
    "| **CompetitionDistance** | distância em metros até a loja concorrente mais próxima |\n",
    "| **CompetitionOpenSince[Month/Year]** | fornece o ano e mês aproximados da hora em que o concorrente mais próximo foi aberto |\n",
    "| **Promo** | indica se uma loja está realizando uma promoção naquele dia |\n",
    "| **Promo2** | Promo2 é uma promoção contínua e consecutiva para algumas lojas: <br><br>0 = loja não participa, <br>1 = loja participa |\n",
    "| **Promo2Since[Year/Week]** | descreve o ano e a semana do calendário em que a loja começou a participar da Promo2 |\n",
    "| **PromoInterval** | descreve os intervalos consecutivos de início da Promo2, nomeando os meses em que a <br>promoção é reiniciada. Por exemplo, \"fevereiro, maio, agosto, novembro\" significa que cada <br>rodada começa em fevereiro, maio, agosto e novembro de qualquer ano para aquela loja |"
   ]
  },
  {
   "cell_type": "markdown",
   "metadata": {},
   "source": [
    "## Descrição dos Dados"
   ]
  },
  {
   "cell_type": "markdown",
   "metadata": {},
   "source": [
    "### Visualizar"
   ]
  },
  {
   "cell_type": "code",
   "execution_count": null,
   "metadata": {},
   "outputs": [],
   "source": [
    "df_raw.head()"
   ]
  },
  {
   "cell_type": "markdown",
   "metadata": {},
   "source": [
    "### Tamanho"
   ]
  },
  {
   "cell_type": "code",
   "execution_count": null,
   "metadata": {},
   "outputs": [],
   "source": [
    "df_raw.shape"
   ]
  },
  {
   "cell_type": "markdown",
   "metadata": {},
   "source": [
    "### Tipos e Nomes das Colunas"
   ]
  },
  {
   "cell_type": "code",
   "execution_count": null,
   "metadata": {},
   "outputs": [],
   "source": [
    "df_raw.dtypes"
   ]
  },
  {
   "cell_type": "markdown",
   "metadata": {},
   "source": [
    "### Verificar Valores Nulos"
   ]
  },
  {
   "cell_type": "code",
   "execution_count": null,
   "metadata": {},
   "outputs": [],
   "source": [
    "df_raw.isnull().sum()"
   ]
  },
  {
   "cell_type": "markdown",
   "metadata": {},
   "source": [
    "### Verificar Valores Duplicados"
   ]
  },
  {
   "cell_type": "code",
   "execution_count": null,
   "metadata": {},
   "outputs": [],
   "source": [
    "df_raw.duplicated().sum()"
   ]
  },
  {
   "cell_type": "markdown",
   "metadata": {},
   "source": [
    "## Limpeza dos Dados"
   ]
  },
  {
   "cell_type": "markdown",
   "metadata": {},
   "source": [
    "### Tratamento de NAs"
   ]
  },
  {
   "cell_type": "markdown",
   "metadata": {},
   "source": [
    "**Premissas**\n",
    "| FEATURES                       | TOTAL DE NAs | JUSTIFICATIVA |\n",
    "|--------------------------------|--------------| --------------|\n",
    "| CompetitionDistance            | 2.642        | Caso o valor seja NA, será atribuído um número bem elevado, pois a ausência de informação pode indicar que não há concorrentes próximos ou a distância é extremamente grande.|\n",
    "| CompetitionOpenSinceMonth/Year | 323.348      | Se estiver faltando o valor, será utilizado o mês/ano correspondente da coluna 'date'. |\n",
    "| Promo2SinceWeek/Year           | 508.031      | Na ausência de informação, será considerado a semana/ano presentes na coluna 'date'. |\n",
    "| PromoInterval                  | 508.031      | Se não houver valor, será preenchido com none. |"
   ]
  },
  {
   "cell_type": "code",
   "execution_count": null,
   "metadata": {},
   "outputs": [],
   "source": [
    "df1['Date'] = pd.to_datetime(df1.Date, format='%Y-%m-%d')\n",
    "df1['CompetitionDistance'] = df1['CompetitionDistance'].fillna(200000.0)\n",
    "df1['CompetitionOpenSinceYear'] = df1['CompetitionOpenSinceYear'].fillna(df1['Date'].dt.year)\n",
    "df1['CompetitionOpenSinceMonth'] = df1['CompetitionOpenSinceMonth'].fillna(df1['Date'].dt.month)\n",
    "df1['Promo2SinceWeek'] = df1['Promo2SinceWeek'].fillna(df1['Date'].dt.isocalendar().week)\n",
    "df1['Promo2SinceYear'] = df1['Promo2SinceYear'].fillna(df1['Date'].dt.year)\n",
    "df1['PromoInterval'] = df1['PromoInterval'].fillna('none')\n",
    "df1.isnull().sum()"
   ]
  },
  {
   "cell_type": "markdown",
   "metadata": {},
   "source": [
    "### Alterar Tipos"
   ]
  },
  {
   "cell_type": "code",
   "execution_count": null,
   "metadata": {},
   "outputs": [],
   "source": [
    "df1['CompetitionOpenSinceMonth'] = df1['CompetitionOpenSinceMonth'].astype(int)\n",
    "df1['CompetitionOpenSinceYear'] = df1['CompetitionOpenSinceYear'].astype(int)\n",
    "df1['Promo2SinceWeek'] = df1['Promo2SinceWeek'].astype(int)\n",
    "df1['Promo2SinceYear'] = df1['Promo2SinceYear'].astype(int)\n",
    "df1['CompetitionDistance'] = df1['CompetitionDistance'].astype(int)\n",
    "\n",
    "# Valores categóricos\n",
    "df1['PromoInterval'] = df1['PromoInterval'].astype('category')\n",
    "df1['StateHoliday'] = df1['StateHoliday'].astype('category')\n",
    "df1['StoreType'] = df1['StoreType'].astype('category')\n",
    "df1['Assortment'] = df1['Assortment'].astype('category')\n",
    "\n",
    "# Valores booleanos\n",
    "df1['Promo'] = df1['Promo'].astype('bool')\n",
    "df1['Promo2'] = df1['Promo2'].astype('bool')\n",
    "df1['SchoolHoliday'] = df1['SchoolHoliday'].astype('bool')\n",
    "\n",
    "df1.dtypes"
   ]
  },
  {
   "cell_type": "markdown",
   "metadata": {},
   "source": [
    "### Criar Novas Features"
   ]
  },
  {
   "cell_type": "code",
   "execution_count": null,
   "metadata": {},
   "outputs": [],
   "source": [
    "# Split Date Features\n",
    "df1['Year'] = df1.Date.dt.year.astype(int)\n",
    "df1['Month'] = df1.Date.dt.month.astype(int)\n",
    "df1['Day'] = df1.Date.dt.day.astype(int)\n",
    "df1['MonthYear'] = df1.Date.dt.strftime('%Y-%m')\n",
    "df1['YearWeek'] = df1.Date.dt.strftime( '%Y-%W' )\n",
    "df1['WeekOfYear'] = df1.Date.dt.isocalendar().week.astype(int)\n",
    "df1['DayOfYear'] = df1.Date.dt.day_of_year.astype(int)\n",
    "\n",
    "# Criação de coluna identificando se o período é promocional (1) ou não (0)\n",
    "MonthMap = {\n",
    "    1: 'Jan', \n",
    "    2: 'Fev', \n",
    "    3: 'Mar', \n",
    "    4: 'Apr', \n",
    "    5: 'May', \n",
    "    6: 'Jun', \n",
    "    7: 'Jul', \n",
    "    8: 'Aug', \n",
    "    9: 'Sep', \n",
    "    10: 'Oct', \n",
    "    11: 'Nov',\n",
    "    12: 'Dec'\n",
    "}\n",
    "\n",
    "df1['MonthMap'] = df1['Date'].dt.month.map(MonthMap)\n",
    "\n",
    "df1['IsPromo'] = (\n",
    "    df1[['PromoInterval', 'MonthMap']].apply(\n",
    "        lambda x: \n",
    "            0 if x['PromoInterval'] == 0 \n",
    "        else \n",
    "            1 if x['MonthMap'] in x['PromoInterval'].split(',') \n",
    "        else 0, \n",
    "        axis = 1)\n",
    ")\n",
    "\n",
    "# Criação de coluna identificando o tempo em meses que há competidores ativos referente àquela loja\n",
    "df1['CompetitionSince'] = df1.apply(\n",
    "    lambda x: datetime.datetime(\n",
    "        year = x['CompetitionOpenSinceYear'], \n",
    "        month = x['CompetitionOpenSinceMonth'], \n",
    "        day = 1), \n",
    "    axis = 1\n",
    ")\n",
    "df1['CompetitionTimeMonth'] = ((df1['Date'] - df1['CompetitionSince'])/30).apply(lambda x: x.days).astype(int)\n",
    "# CompetitionSince: coluna que junta a data em ano, mês e dia\n",
    "# day = 1: só tem o ano e o mês, considerando o mês como um todo (como se todo mês estivesse no mesmo dia)\n",
    "# datetime.datetime: um é um método e o outro é uma classe\n",
    "# diminui a data pela data de competição para saber o período de duração da competição\n",
    "# dividir por 30 para manter a granularidade mínima como mês\n",
    "\n",
    "# Criação de coluna identificando o tempo em semanas que há competidores ativos referente àquela loja\n",
    "df1['PromoSince'] = df1['Promo2SinceYear'].astype(str) + '-' + df1['Promo2SinceWeek'].astype(str) # ano-semana\n",
    "df1['PromoSince'] = df1['PromoSince'].apply(lambda x: datetime.datetime.strptime(x + '-1', '%Y-%W-%w') - datetime.timedelta(days = 7)) # ano-mes-dia\n",
    "df1['PromoTimeWeek'] = ((df1['Date'] - df1['PromoSince'])/7).apply(lambda x: x.days).astype(int) # quantidade de semanas\n",
    "# timedelta(days = 7): para converter uma semana numa diferença de 7 dias\n",
    "# x + -1: pega sempre o dia anterior em relação a contagem das semanas (exemplo: 2013-01 = 2012-12-31)"
   ]
  },
  {
   "cell_type": "code",
   "execution_count": null,
   "metadata": {},
   "outputs": [],
   "source": [
    "# Visualização das novas features\n",
    "df1[[\n",
    "    'Year',\n",
    "    'Month',\n",
    "    'Day',\n",
    "    'MonthYear',\n",
    "    'YearWeek',\n",
    "    'WeekOfYear',\n",
    "    'DayOfYear',\n",
    "    'MonthMap',\n",
    "    'IsPromo',\n",
    "    'CompetitionSince',\n",
    "    'CompetitionTimeMonth',\n",
    "    'PromoSince',\n",
    "    'PromoTimeWeek'\n",
    "]].sample(5)"
   ]
  },
  {
   "cell_type": "markdown",
   "metadata": {},
   "source": [
    "### Alterar Valores"
   ]
  },
  {
   "cell_type": "code",
   "execution_count": null,
   "metadata": {},
   "outputs": [],
   "source": [
    "# StateHoliday\n",
    "# a = feriado público\n",
    "# b = feriado de Páscoa\n",
    "# c = Natal\n",
    "# 0 = Nenhum\n",
    "df1['StateHoliday'] = df1['StateHoliday'].cat.rename_categories({\n",
    "    'a':'public', \n",
    "    'b':'easter',\n",
    "    'c':'christmas',\n",
    "    '0':'none'})\n",
    "\n",
    "# Assortment\n",
    "# a = básico\n",
    "# b = extra\n",
    "# c = estendido\n",
    "df1['Assortment'] = df1['Assortment'].cat.rename_categories({\n",
    "    'a':'basic',\n",
    "    'b':'extra',\n",
    "    'c':'extended'\n",
    "})\n",
    "df1['Assortment'] = pd.Categorical(\n",
    "    df1['Assortment'],\n",
    "    categories=[\n",
    "        'basic', \n",
    "        'extra', \n",
    "        'extended'\n",
    "    ],\n",
    "    ordered=True\n",
    ")\n",
    "\n",
    "df1[[\n",
    "    'StateHoliday',\n",
    "    'Assortment',\n",
    "]].sample(5)"
   ]
  },
  {
   "cell_type": "markdown",
   "metadata": {},
   "source": [
    "### Remover Features"
   ]
  },
  {
   "cell_type": "code",
   "execution_count": null,
   "metadata": {},
   "outputs": [],
   "source": [
    "# Remover features que não serão utilizadas\n",
    "cols_drop = [\n",
    "    'Customers', \n",
    "    'Open', \n",
    "    'PromoInterval', \n",
    "    'MonthMap'\n",
    "]\n",
    "\n",
    "df1.drop(\n",
    "    columns=cols_drop, \n",
    "    inplace=True\n",
    ")"
   ]
  },
  {
   "cell_type": "code",
   "execution_count": null,
   "metadata": {},
   "outputs": [],
   "source": [
    "list(df1.columns)"
   ]
  },
  {
   "cell_type": "markdown",
   "metadata": {},
   "source": [
    "## Salvar Dados Tratados"
   ]
  },
  {
   "cell_type": "code",
   "execution_count": null,
   "metadata": {},
   "outputs": [],
   "source": [
    "pkl.dump(df1,open('../data/cleansed/df_cleansed.pkl','wb'))"
   ]
  }
 ],
 "metadata": {
  "kernelspec": {
   "display_name": "previsao_vendas_rossmann",
   "language": "python",
   "name": "python3"
  },
  "language_info": {
   "codemirror_mode": {
    "name": "ipython",
    "version": 3
   },
   "file_extension": ".py",
   "mimetype": "text/x-python",
   "name": "python",
   "nbconvert_exporter": "python",
   "pygments_lexer": "ipython3",
   "version": "3.13.3"
  }
 },
 "nbformat": 4,
 "nbformat_minor": 2
}
